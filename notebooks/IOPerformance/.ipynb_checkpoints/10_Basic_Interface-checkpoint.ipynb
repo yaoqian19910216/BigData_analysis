{
 "metadata": {
  "name": "",
  "signature": "sha256:6df922988f1bf266e1ef308e5a423373b9ed423b2b293d9a23b7256904b5d1fa"
 },
 "nbformat": 3,
 "nbformat_minor": 0,
 "worksheets": [
  {
   "cells": [
    {
     "cell_type": "markdown",
     "metadata": {},
     "source": [
      "# The basic interface for remote computation with IPython"
     ]
    },
    {
     "cell_type": "markdown",
     "metadata": {},
     "source": [
      "A Client is the low-level object which manages your connection to the various Schedulers and the Hub.\n",
      "Everything you do passes through one of these objects, either indirectly or directly.\n",
      "\n",
      "It has an `ids` property, which is always an up-to-date list of the integer engine IDs currently available."
     ]
    },
    {
     "cell_type": "code",
     "collapsed": false,
     "input": [
      "import os,sys,time\n",
      "import numpy\n",
      "\n",
      "from IPython import parallel\n",
      "rc = parallel.Client()"
     ],
     "language": "python",
     "metadata": {},
     "outputs": [],
     "prompt_number": 26
    },
    {
     "cell_type": "code",
     "collapsed": false,
     "input": [
      "rc.ids"
     ],
     "language": "python",
     "metadata": {},
     "outputs": [
      {
       "metadata": {},
       "output_type": "pyout",
       "prompt_number": 27,
       "text": [
        "[0, 1, 2, 3]"
       ]
      }
     ],
     "prompt_number": 27
    },
    {
     "cell_type": "markdown",
     "metadata": {},
     "source": [
      "The most basic function of the **Client** is to create the **View** objects,\n",
      "which are the interfaces for actual communication with the engines.\n",
      "\n",
      "There are two basic models for working with engines.  Let's start with the simplest case for remote execution, a DirectView of one engine:"
     ]
    },
    {
     "cell_type": "code",
     "collapsed": false,
     "input": [
      "e0 = rc[0] # index-access of a client gives us a DirectView\n",
      "e0.block = True # let's start synchronous\n",
      "e0"
     ],
     "language": "python",
     "metadata": {},
     "outputs": [
      {
       "metadata": {},
       "output_type": "pyout",
       "prompt_number": 28,
       "text": [
        "<DirectView 0>"
       ]
      }
     ],
     "prompt_number": 28
    },
    {
     "cell_type": "markdown",
     "metadata": {},
     "source": [
      "It's all about:\n",
      "\n",
      "\n",
      "    view.apply(f, *args, **kwargs)"
     ]
    },
    {
     "cell_type": "markdown",
     "metadata": {},
     "source": [
      "We want the interface for remote and parallel execution to be as natural as possible.\n",
      "And what's the most natural unit of execution?  Code!  Simply define a function,\n",
      "just as you would use locally, and instead of calling it, pass it to `view.apply()`,\n",
      "with the remaining arguments just as you would have passed them to the function."
     ]
    },
    {
     "cell_type": "code",
     "collapsed": false,
     "input": [
      "def get_norms(A, levels=[2]):\n",
      "    \"\"\"get all the requested norms for an array\"\"\"\n",
      "    norms = []\n",
      "    for level in levels:\n",
      "        norms.append(numpy.linalg.norm(A, level))\n",
      "    return norms\n",
      "\n",
      "A = numpy.random.random(1024)\n",
      "get_norms(A, levels=[1,2,3,numpy.inf])"
     ],
     "language": "python",
     "metadata": {},
     "outputs": [
      {
       "metadata": {},
       "output_type": "pyout",
       "prompt_number": 29,
       "text": [
        "[517.45607242809365,\n",
        " 18.656125480950635,\n",
        " 6.4111632550630739,\n",
        " 0.99971230222807927]"
       ]
      }
     ],
     "prompt_number": 29
    },
    {
     "cell_type": "markdown",
     "metadata": {},
     "source": [
      "To call this remotely, simply replace '`get_norms(`' with '`e0.apply(get_norms,`':"
     ]
    },
    {
     "cell_type": "markdown",
     "metadata": {},
     "source": [
      "This replacement is generally true.\n",
      "\n",
      "Note that this will probably raise a NameError on numpy. The simplest way to import numpy is to do:"
     ]
    },
    {
     "cell_type": "code",
     "collapsed": false,
     "input": [
      "e0.apply(get_norms, A, levels=[1,2,3,numpy.inf])"
     ],
     "language": "python",
     "metadata": {},
     "outputs": [
      {
       "metadata": {},
       "output_type": "pyout",
       "prompt_number": 32,
       "text": [
        "[517.45607242809365,\n",
        " 18.656125480950635,\n",
        " 6.4111632550630739,\n",
        " 0.99971230222807927]"
       ]
      }
     ],
     "prompt_number": 32
    },
    {
     "cell_type": "code",
     "collapsed": true,
     "input": [
      "e0.execute(\"import numpy\")"
     ],
     "language": "python",
     "metadata": {},
     "outputs": [
      {
       "metadata": {},
       "output_type": "pyout",
       "prompt_number": 33,
       "text": [
        "<AsyncResult: finished>"
       ]
      }
     ],
     "prompt_number": 33
    },
    {
     "cell_type": "markdown",
     "metadata": {},
     "source": [
      "But if you want to simultaneously import modules locally and globally, you can use `view.sync_imports()`:"
     ]
    },
    {
     "cell_type": "code",
     "collapsed": false,
     "input": [
      "with e0.sync_imports():\n",
      "    import numpy"
     ],
     "language": "python",
     "metadata": {},
     "outputs": [
      {
       "output_type": "stream",
       "stream": "stdout",
       "text": [
        "importing numpy on engine(s)\n"
       ]
      }
     ],
     "prompt_number": 34
    },
    {
     "cell_type": "markdown",
     "metadata": {},
     "source": [
      "Functions don\u2019t have to be interactively defined, you can use module functions as well:"
     ]
    },
    {
     "cell_type": "code",
     "collapsed": false,
     "input": [
      "e0.apply(numpy.linalg.norm, A, 2)"
     ],
     "language": "python",
     "metadata": {},
     "outputs": [
      {
       "metadata": {},
       "output_type": "pyout",
       "prompt_number": 35,
       "text": [
        "18.656125480950635"
       ]
      }
     ],
     "prompt_number": 35
    },
    {
     "cell_type": "markdown",
     "metadata": {},
     "source": [
      "## execute and run\n",
      "\n",
      "You can also run files or strings with `run` and `execute`\n",
      "respectively.\n",
      "\n",
      "For instance, I have a script `myscript.py` that defines a function\n",
      "`mysquare`:\n",
      "\n",
      "    import math\n",
      "    import numpy\n",
      "    import sys\n",
      "\n",
      "    a=5\n",
      "\n",
      "    def mysquare(x):\n",
      "        return x*x\n",
      "\n",
      "I can run that remotely, just like I can locally with `%run`, and then I\n",
      "will have `mysquare()`, and any imports and globals from the script in the\n",
      "engine's namespace:"
     ]
    },
    {
     "cell_type": "code",
     "collapsed": false,
     "input": [
      "cat myscript.py"
     ],
     "language": "python",
     "metadata": {},
     "outputs": [
      {
       "output_type": "stream",
       "stream": "stdout",
       "text": [
        "import math\r\n",
        "import numpy\r\n",
        "import sys\r\n",
        "\r\n",
        "a=5\r\n",
        "\r\n",
        "def mysquare(x):\r\n",
        "    return x*x"
       ]
      }
     ],
     "prompt_number": 36
    },
    {
     "cell_type": "code",
     "collapsed": true,
     "input": [
      "e0.run(\"myscript.py\")"
     ],
     "language": "python",
     "metadata": {},
     "outputs": [
      {
       "metadata": {},
       "output_type": "pyout",
       "prompt_number": 37,
       "text": [
        "<AsyncResult: finished>"
       ]
      }
     ],
     "prompt_number": 37
    },
    {
     "cell_type": "code",
     "collapsed": true,
     "input": [
      "e0.execute(\"b=mysquare(a)\")"
     ],
     "language": "python",
     "metadata": {},
     "outputs": [
      {
       "metadata": {},
       "output_type": "pyout",
       "prompt_number": 38,
       "text": [
        "<AsyncResult: finished>"
       ]
      }
     ],
     "prompt_number": 38
    },
    {
     "cell_type": "code",
     "collapsed": false,
     "input": [
      "e0['a']"
     ],
     "language": "python",
     "metadata": {},
     "outputs": [
      {
       "metadata": {},
       "output_type": "pyout",
       "prompt_number": 39,
       "text": [
        "5"
       ]
      }
     ],
     "prompt_number": 39
    },
    {
     "cell_type": "code",
     "collapsed": false,
     "input": [
      "e0['b']"
     ],
     "language": "python",
     "metadata": {},
     "outputs": [
      {
       "metadata": {},
       "output_type": "pyout",
       "prompt_number": 40,
       "text": [
        "25"
       ]
      }
     ],
     "prompt_number": 40
    },
    {
     "cell_type": "markdown",
     "metadata": {},
     "source": [
      "## Working with the engine namespace\n",
      "\n",
      "The namespace on the engine is accessible to your functions as\n",
      "`globals`. So if you want to work with values that persist in the engine namespace, you just use\n",
      "global variables."
     ]
    },
    {
     "cell_type": "code",
     "collapsed": false,
     "input": [
      "def inc_a(increment):\n",
      "    global a\n",
      "    a += increment\n",
      "\n",
      "print \"   %2i\" % e0['a']\n",
      "e0.apply(inc_a, 5)\n",
      "print \" +  5\"\n",
      "print \" = %2i\" % e0['a']"
     ],
     "language": "python",
     "metadata": {},
     "outputs": [
      {
       "output_type": "stream",
       "stream": "stdout",
       "text": [
        "    5\n",
        " +  5\n",
        " = 10\n"
       ]
      }
     ],
     "prompt_number": 41
    },
    {
     "cell_type": "markdown",
     "metadata": {},
     "source": [
      "And just like the rest of Python, you don\u2019t have to specify global variables if you aren\u2019t assigning to them:"
     ]
    },
    {
     "cell_type": "code",
     "collapsed": false,
     "input": [
      "def mul_by_a(b):\n",
      "    return a*b\n",
      "\n",
      "e0.apply(mul_by_a, 10)"
     ],
     "language": "python",
     "metadata": {},
     "outputs": [
      {
       "metadata": {},
       "output_type": "pyout",
       "prompt_number": 42,
       "text": [
        "100"
       ]
      }
     ],
     "prompt_number": 42
    },
    {
     "cell_type": "markdown",
     "metadata": {},
     "source": [
      "If you want to do multiple actions on data, you obviously don\u2019t want to send it every time. For this, we have a `Reference` class. A Reference is just a wrapper for an identifier that gets unserialized by pulling the corresponding object out of the engine namespace."
     ]
    },
    {
     "cell_type": "code",
     "collapsed": false,
     "input": [
      "def is_it_a(b):\n",
      "    return a is b\n",
      "\n",
      "e0.apply(is_it_a, 5)"
     ],
     "language": "python",
     "metadata": {},
     "outputs": [
      {
       "metadata": {},
       "output_type": "pyout",
       "prompt_number": 43,
       "text": [
        "False"
       ]
      }
     ],
     "prompt_number": 43
    },
    {
     "cell_type": "code",
     "collapsed": false,
     "input": [
      "e0.apply(is_it_a, parallel.Reference('a'))"
     ],
     "language": "python",
     "metadata": {},
     "outputs": [
      {
       "metadata": {},
       "output_type": "pyout",
       "prompt_number": 44,
       "text": [
        "True"
       ]
      }
     ],
     "prompt_number": 44
    },
    {
     "cell_type": "markdown",
     "metadata": {},
     "source": [
      "## Moving data around\n",
      "\n",
      "In addition to calling functions and executing code on engines, you can\n",
      "transfer Python objects to and from your IPython session and the\n",
      "engines. In IPython, these operations are called `push` (sending an\n",
      "object to the engines) and `pull` (getting an object from the\n",
      "engines).\n",
      "\n",
      "push takes a dictionary, used to update the remote namespace:"
     ]
    },
    {
     "cell_type": "code",
     "collapsed": false,
     "input": [
      "e0.push(dict(a=1.03234,b=3453))"
     ],
     "language": "python",
     "metadata": {},
     "outputs": [],
     "prompt_number": 45
    },
    {
     "cell_type": "markdown",
     "metadata": {},
     "source": [
      "pull takes one or more keys:"
     ]
    },
    {
     "cell_type": "code",
     "collapsed": false,
     "input": [
      "e0.pull('a')"
     ],
     "language": "python",
     "metadata": {},
     "outputs": [
      {
       "metadata": {},
       "output_type": "pyout",
       "prompt_number": 46,
       "text": [
        "1.03234"
       ]
      }
     ],
     "prompt_number": 46
    },
    {
     "cell_type": "code",
     "collapsed": false,
     "input": [
      "e0.pull(('b','a'))"
     ],
     "language": "python",
     "metadata": {},
     "outputs": [
      {
       "metadata": {},
       "output_type": "pyout",
       "prompt_number": 47,
       "text": [
        "[3453, 1.03234]"
       ]
      }
     ],
     "prompt_number": 47
    },
    {
     "cell_type": "markdown",
     "metadata": {},
     "source": [
      "### Dictionary interface"
     ]
    },
    {
     "cell_type": "markdown",
     "metadata": {},
     "source": [
      "treating a DirectView like a dictionary results in push/pull operations:"
     ]
    },
    {
     "cell_type": "code",
     "collapsed": false,
     "input": [
      "e0['a'] = range(5)\n",
      "e0.execute('b = a[::-1]')\n",
      "e0['b']"
     ],
     "language": "python",
     "metadata": {},
     "outputs": [
      {
       "metadata": {},
       "output_type": "pyout",
       "prompt_number": 48,
       "text": [
        "[4, 3, 2, 1, 0]"
       ]
      }
     ],
     "prompt_number": 48
    },
    {
     "cell_type": "markdown",
     "metadata": {},
     "source": [
      "`get()` and `update()` work as well."
     ]
    },
    {
     "cell_type": "markdown",
     "metadata": {},
     "source": [
      "# Asynchronous execution\n",
      "\n",
      "We have covered the basic methods for running code remotely, but we have been using `block=True`.  We can also do non-blocking execution."
     ]
    },
    {
     "cell_type": "code",
     "collapsed": true,
     "input": [
      "e0.block = False"
     ],
     "language": "python",
     "metadata": {},
     "outputs": [],
     "prompt_number": 49
    },
    {
     "cell_type": "markdown",
     "metadata": {},
     "source": [
      "In non-blocking mode, `apply` submits the command to be executed and\n",
      "then returns a `AsyncResult` object immediately. The `AsyncResult`\n",
      "object gives you a way of getting a result at a later time through its\n",
      "`get()` method.\n",
      "\n",
      "The AsyncResult object provides a superset of the interface in [`multiprocessing.pool.AsyncResult`](http://docs.python.org/library/multiprocessing#multiprocessing.pool.AsyncResult).\n",
      "See the official Python documentation for more."
     ]
    },
    {
     "cell_type": "code",
     "collapsed": true,
     "input": [
      "def wait(t):\n",
      "     import time\n",
      "     tic = time.time()\n",
      "     time.sleep(t)\n",
      "     return time.time()-tic"
     ],
     "language": "python",
     "metadata": {},
     "outputs": [],
     "prompt_number": 50
    },
    {
     "cell_type": "code",
     "collapsed": false,
     "input": [
      "ar = e0.apply(wait, 10)\n",
      "ar"
     ],
     "language": "python",
     "metadata": {},
     "outputs": [
      {
       "metadata": {},
       "output_type": "pyout",
       "prompt_number": 51,
       "text": [
        "<AsyncResult: wait>"
       ]
      }
     ],
     "prompt_number": 51
    },
    {
     "cell_type": "markdown",
     "metadata": {},
     "source": [
      "`ar.ready()` tells us if the result is ready"
     ]
    },
    {
     "cell_type": "code",
     "collapsed": false,
     "input": [
      "ar.ready()"
     ],
     "language": "python",
     "metadata": {},
     "outputs": [
      {
       "metadata": {},
       "output_type": "pyout",
       "prompt_number": 53,
       "text": [
        "True"
       ]
      }
     ],
     "prompt_number": 53
    },
    {
     "cell_type": "markdown",
     "metadata": {},
     "source": [
      "`ar.get()` blocks until the result is ready, or a timeout is reached, if one is specified"
     ]
    },
    {
     "cell_type": "code",
     "collapsed": false,
     "input": [
      "%time ar.get(1)"
     ],
     "language": "python",
     "metadata": {},
     "outputs": [
      {
       "output_type": "stream",
       "stream": "stdout",
       "text": [
        "CPU times: user 9 \u00b5s, sys: 5 \u00b5s, total: 14 \u00b5s\n",
        "Wall time: 11.9 \u00b5s\n"
       ]
      },
      {
       "metadata": {},
       "output_type": "pyout",
       "prompt_number": 54,
       "text": [
        "9.999835968017578"
       ]
      }
     ],
     "prompt_number": 54
    },
    {
     "cell_type": "code",
     "collapsed": false,
     "input": [
      "%time ar.get()"
     ],
     "language": "python",
     "metadata": {},
     "outputs": [
      {
       "output_type": "stream",
       "stream": "stdout",
       "text": [
        "CPU times: user 8 \u00b5s, sys: 0 ns, total: 8 \u00b5s\n",
        "Wall time: 12.2 \u00b5s\n"
       ]
      },
      {
       "metadata": {},
       "output_type": "pyout",
       "prompt_number": 55,
       "text": [
        "9.999835968017578"
       ]
      }
     ],
     "prompt_number": 55
    },
    {
     "cell_type": "markdown",
     "metadata": {},
     "source": [
      "For convenience, you can set block for a single call with the extra sync/async methods:"
     ]
    },
    {
     "cell_type": "code",
     "collapsed": false,
     "input": [
      "e0.apply_sync(os.getpid)"
     ],
     "language": "python",
     "metadata": {},
     "outputs": [
      {
       "metadata": {},
       "output_type": "pyout",
       "prompt_number": 56,
       "text": [
        "74372"
       ]
      }
     ],
     "prompt_number": 56
    },
    {
     "cell_type": "code",
     "collapsed": false,
     "input": [
      "e0.apply_async(os.getpid)"
     ],
     "language": "python",
     "metadata": {},
     "outputs": [
      {
       "metadata": {},
       "output_type": "pyout",
       "prompt_number": 57,
       "text": [
        "<AsyncResult: getpid>"
       ]
      }
     ],
     "prompt_number": 57
    },
    {
     "cell_type": "code",
     "collapsed": false,
     "input": [
      "ar = _\n",
      "ar.get()"
     ],
     "language": "python",
     "metadata": {},
     "outputs": [
      {
       "metadata": {},
       "output_type": "pyout",
       "prompt_number": 58,
       "text": [
        "74372"
       ]
      }
     ],
     "prompt_number": 58
    },
    {
     "cell_type": "code",
     "collapsed": false,
     "input": [
      "ar.metadata"
     ],
     "language": "python",
     "metadata": {},
     "outputs": [
      {
       "metadata": {},
       "output_type": "pyout",
       "prompt_number": 59,
       "text": [
        "{'after': [],\n",
        " 'completed': datetime.datetime(2014, 4, 18, 18, 8, 59, 338151),\n",
        " 'data': {},\n",
        " 'engine_id': 0,\n",
        " 'engine_uuid': '374ac925-0bb1-4f5f-a366-19210022d42a',\n",
        " 'follow': [],\n",
        " 'msg_id': '3aa23425-5ac0-403e-8021-6fe68fdf082a',\n",
        " 'outputs': [],\n",
        " 'outputs_ready': True,\n",
        " 'pyerr': None,\n",
        " 'pyin': None,\n",
        " 'pyout': None,\n",
        " 'received': datetime.datetime(2014, 4, 18, 18, 8, 59, 339072),\n",
        " 'started': datetime.datetime(2014, 4, 18, 18, 8, 59, 337891),\n",
        " 'status': 'ok',\n",
        " 'stderr': '',\n",
        " 'stdout': '',\n",
        " 'submitted': datetime.datetime(2014, 4, 18, 18, 8, 59, 336839)}"
       ]
      }
     ],
     "prompt_number": 59
    },
    {
     "cell_type": "markdown",
     "metadata": {},
     "source": [
      "Now that we have the basic interface covered, we can really get going in Parallel."
     ]
    },
    {
     "cell_type": "code",
     "collapsed": false,
     "input": [
      "import time\n",
      "def measureRandomAccess(size,filename='',k=100000):\n",
      "    \"\"\" Measure the distribution of random accesses in computer memory.\n",
      "    size=size of memory block.\n",
      "    filename= a file that is used as an external buffer. If filename=='' then everything is done in memory.\n",
      "    k = number of times that the experiment is repeated.\n",
      "    output:\n",
      "    mean = the mean of T\n",
      "    std = the std of T\n",
      "    T = a list the contains the times of all k experiments\n",
      "    \"\"\"\n",
      "    # Prepare buffer.\n",
      "    if filename == '':\n",
      "        inmem=True\n",
      "        A=bytearray(size)\n",
      "    else:\n",
      "        inmem=False\n",
      "        file=open(filename,'r+')\n",
      "        \n",
      "    # Read and write k times from/to buffer.\n",
      "    sum=0; sum2=0\n",
      "    T=np.zeros(k)\n",
      "    for i in range(k):\n",
      "        t=time.time()\n",
      "        loc=int(rand()*size)\n",
      "        if inmem:\n",
      "            x=A[loc:loc+4]\n",
      "            A[loc]=(i % 256)\n",
      "        else:\n",
      "            file.seek(loc)\n",
      "            poke=file.read(1)\n",
      "            file.write(\"test\")\n",
      "        d=time.time()-t\n",
      "        T[i]=d\n",
      "        sum += d\n",
      "        sum2 += d*d\n",
      "    mean=sum/k; var=(sum2/k)-mean**2; std=sqrt(var)\n",
      "    return (mean,std,T)"
     ],
     "language": "python",
     "metadata": {},
     "outputs": [],
     "prompt_number": 60
    },
    {
     "cell_type": "code",
     "collapsed": false,
     "input": [
      "n=1000 # size of single block (1KB)\n",
      "m_list=[1,10,100,1000,10000] # size of file in blocks\n",
      "m=None\n",
      "k=100000;\n",
      "L=len(m_list)\n",
      "\n",
      "m=10000\n",
      "t1=time.time()\n",
      "A=bytearray(n)\n",
      "t2=time.time()\n",
      "file=open('DataBlock','w')\n",
      "for i in range(m):\n",
      "    file.write(A)\n",
      "    if i % 100 == 0:\n",
      "        print i,\",\",\n",
      "file.close()\n",
      "t3=time.time()\n",
      "print '\\ncreating %d byte block: %f, writing %d blocks %f' % (n,t2-t1,m,t3-t2)\n",
      "\n",
      "#(mean[0,m_i],std[0,m_i],T[0,m_i]) = measureRandomAccess(n*m,filename='DataBlock',k=k)\n",
      "#print 'file mean=',mean[0,m_i],'file std=',std[0,m_i]    \n",
      "#(mean[1,m_i],std[1,m_i],T[1,m_i]) = measureRandomAccess(n*m,k=k)\n",
      "#print 'mem mean=',mean[1,m_i],'mem std=',std[1,m_i]"
     ],
     "language": "python",
     "metadata": {},
     "outputs": [
      {
       "output_type": "stream",
       "stream": "stdout",
       "text": [
        "0 , 100 , 200 , 300 , 400 , 500 , 600 , 700 , 800 , 900 , 1000 , 1100 , 1200 , 1300 , 1400 , 1500 , 1600 , 1700 , 1800 , 1900 , 2000 , 2100 , 2200 , 2300 , 2400 , 2500 , 2600 , 2700 , 2800 , 2900 , 3000 , 3100 , 3200 , 3300 , 3400 , 3500 , 3600 , 3700 , 3800 , 3900 , 4000 , 4100 , 4200 , 4300 , 4400 , 4500 , 4600 , 4700 , 4800 , 4900 , 5000 , 5100 , 5200 , 5300 , 5400 , 5500 , 5600 , 5700 , 5800 , 5900 , 6000 , 6100 , 6200 , 6300 , 6400 , 6500 , 6600 , 6700 , 6800 , 6900 , 7000 , 7100 , 7200 , 7300 , 7400 , 7500 , 7600 , 7700 , 7800 , 7900 , 8000 , 8100 , 8200 , 8300 , 8400 , 8500 , 8600 , 8700 , 8800 , 8900 , 9000 , 9100 , 9200 , 9300 , 9400 , 9500 , 9600 , 9700 , 9800 , 9900 , \n",
        "creating 1000 byte block: 0.000072, writing 10000 blocks 0.024319\n"
       ]
      }
     ],
     "prompt_number": 72
    },
    {
     "cell_type": "code",
     "collapsed": false,
     "input": [
      "%%timeit\n",
      "mean,std,T = measureRandomAccess(100,filename='DataBlock')"
     ],
     "language": "python",
     "metadata": {},
     "outputs": [
      {
       "output_type": "stream",
       "stream": "stdout",
       "text": [
        "1 loops, best of 3: 601 ms per loop\n"
       ]
      }
     ],
     "prompt_number": 85
    },
    {
     "cell_type": "code",
     "collapsed": false,
     "input": [
      "!ls -l DataBlock"
     ],
     "language": "python",
     "metadata": {},
     "outputs": [
      {
       "output_type": "stream",
       "stream": "stdout",
       "text": [
        "-rw-r--r--  1 yoavfreund  staff  10000000 Apr 19 13:57 DataBlock\r\n"
       ]
      }
     ],
     "prompt_number": 87
    },
    {
     "cell_type": "code",
     "collapsed": false,
     "input": [
      "len(T)"
     ],
     "language": "python",
     "metadata": {},
     "outputs": [
      {
       "metadata": {},
       "output_type": "pyout",
       "prompt_number": 76,
       "text": [
        "100000"
       ]
      }
     ],
     "prompt_number": 76
    },
    {
     "cell_type": "code",
     "collapsed": false,
     "input": [],
     "language": "python",
     "metadata": {},
     "outputs": [
      {
       "metadata": {},
       "output_type": "display_data",
       "png": "[encoded data removed]",
       "text": [
        "<matplotlib.figure.Figure at 0x108aa0c10>"
       ]
      }
     ],
     "prompt_number": 65
    },
    {
     "cell_type": "code",
     "collapsed": false,
     "input": [],
     "language": "python",
     "metadata": {},
     "outputs": []
    }
   ],
   "metadata": {}
  }
 ]
}