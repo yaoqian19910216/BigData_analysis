{
 "metadata": {
  "name": "",
  "signature": "sha256:e9606924f8dbf9190ba22e4983bd6b8c3c7a87065fed5582f55a6f8d9d4bcb7c"
 },
 "nbformat": 3,
 "nbformat_minor": 0,
 "worksheets": [
  {
   "cells": [
    {
     "cell_type": "code",
     "collapsed": false,
     "input": [
      "import pandas as pd\n",
      "import numpy as np\n",
      "import sklearn as sk\n",
      "print 'pandas version: ',pd.__version__\n",
      "print 'numpy version:',np.__version__\n",
      "print 'sklearn version:',sk.__version__"
     ],
     "language": "python",
     "metadata": {},
     "outputs": []
    },
    {
     "cell_type": "code",
     "collapsed": false,
     "input": [
      "data_dir='/Users/yoavfreund/BigData/UCSD_BigData/data/weather'\n",
      "!ls $data_dir\n",
      "!pwd"
     ],
     "language": "python",
     "metadata": {},
     "outputs": [
      {
       "output_type": "stream",
       "stream": "stdout",
       "text": [
        "ALL.head.csv                SAMPLE_TMAX.csv.old.gz      ghcnd-readme.txt            ghcnd-stations_buffered.txt\r\n",
        "SAMPLE_TMAX.csv             data-source.txt             ghcnd-stations.txt          ghcnd-version.txt\r\n"
       ]
      },
      {
       "output_type": "stream",
       "stream": "stdout",
       "text": [
        "/Users/yoavfreund/BigData/UCSD_BigData/notebooks/weather.mapreduce\r\n"
       ]
      }
     ],
     "prompt_number": 40
    },
    {
     "cell_type": "code",
     "collapsed": false,
     "input": [
      "import pickle\n",
      "with open('stations.pkl','wb') as file:\n",
      "    pickle.dump(stations,file, pickle.HIGHEST_PROTOCOL)\n",
      "!rm Stat2Lat.pkl\n",
      "!ls -l stations.pkl\n",
      "!gzip stations.pkl\n",
      "!ls -l stations.pkl*\n",
      "!ls -l $data_dir/ghcnd-stations.txt"
     ],
     "language": "python",
     "metadata": {},
     "outputs": [
      {
       "output_type": "stream",
       "stream": "stdout",
       "text": [
        "rm: Stat2Lat.pkl: No such file or directory\r\n"
       ]
      },
      {
       "output_type": "stream",
       "stream": "stdout",
       "text": [
        "-rw-r--r--  1 yoavfreund  staff  8051413 May  7 19:18 stations.pkl\r\n"
       ]
      },
      {
       "output_type": "stream",
       "stream": "stdout",
       "text": [
        "stations.pkl.gz already exists -- do you wish to overwrite (y or n)? "
       ]
      },
      {
       "output_type": "stream",
       "stream": "stdout",
       "text": [
        "^C\r\n"
       ]
      },
      {
       "output_type": "stream",
       "stream": "stdout",
       "text": [
        "-rw-r--r--  1 yoavfreund  staff  8051413 May  7 19:18 stations.pkl\r\n",
        "-rw-r--r--  1 yoavfreund  staff  1826703 May  7 18:00 stations.pkl.gz\r\n"
       ]
      },
      {
       "output_type": "stream",
       "stream": "stdout",
       "text": [
        "-rw-r--r--  1 yoavfreund  staff  7334424 Apr 15 09:04 ../../data/weather/ghcnd-stations.txt\r\n"
       ]
      }
     ],
     "prompt_number": 30
    },
    {
     "cell_type": "code",
     "collapsed": false,
     "input": [
      "#%load Eigen-by-Station.sh"
     ],
     "language": "python",
     "metadata": {},
     "outputs": [],
     "prompt_number": 23
    },
    {
     "cell_type": "raw",
     "metadata": {},
     "source": [
      "#!/bin/bash\n",
      "# compute weather statistics as a function of station's latitude.\n",
      "\n",
      "source $CSD181/hadoop/hadoop_shared/hadoop_bashrc.sh\n",
      "\n",
      "code_dir=$CSD181/yfreund/weather/processing\n",
      "in_hdfs=/user/arapat/weather\n",
      "out_hdfs=/user/$USER/weather_eigen_2\n",
      "\n",
      "hdfs -rmr $out_hdfs\n",
      "\n",
      "time had jar /opt/hadoop/contrib/streaming/hadoop-*streaming*.jar -Dmapred.map.tasks=20 -Dmapred.reduce.tasks=20 -mapper $code_dir/map-year-temp.py -reducer $code_dir/reduce-year-temp.py -input $in_hdfs/* -output $out_hdfs\n",
      "\n",
      "\n",
      "#Instead of plain text files, you can generate gzip files as your generated output. \n",
      "# Pass '-D mapred.output.compress=true -D mapred.output.compression.codec=org.apache.hadoop.io.compress.GzipCodec' as option to your streaming job.\n"
     ]
    },
    {
     "cell_type": "code",
     "collapsed": false,
     "input": [
      "#%load map-year-temp.py"
     ],
     "language": "python",
     "metadata": {},
     "outputs": [],
     "prompt_number": 5
    },
    {
     "cell_type": "code",
     "collapsed": false,
     "input": [
      "#!/bin/env python\n",
      "import os,sys,re,pickle,coding\n",
      "from numpy import *\n",
      "\n",
      "!gunzip stations.pkl.gz\n",
      "stations=pickle.load(open('stations.pkl', 'rb'))\n",
      "!gzip stations.pkl\n",
      "\n",
      "Days=pickle.load(open('Dates.pkl', 'rb'))\n",
      "\n",
      "stations.head()"
     ],
     "language": "python",
     "metadata": {},
     "outputs": [
      {
       "html": [
        "<div style=\"max-height:1000px;max-width:1500px;overflow:auto;\">\n",
        "<table border=\"1\" class=\"dataframe\">\n",
        "  <thead>\n",
        "    <tr style=\"text-align: right;\">\n",
        "      <th></th>\n",
        "      <th>latitude</th>\n",
        "      <th>longitude</th>\n",
        "      <th>elevation</th>\n",
        "      <th>state</th>\n",
        "      <th>name</th>\n",
        "      <th>GSNFLAG</th>\n",
        "      <th>HCNFLAG</th>\n",
        "      <th>WMOID</th>\n",
        "    </tr>\n",
        "  </thead>\n",
        "  <tbody>\n",
        "    <tr>\n",
        "      <th>ACW00011604</th>\n",
        "      <td> 17.1167</td>\n",
        "      <td>-61.7833</td>\n",
        "      <td>   10.1</td>\n",
        "      <td> NaN</td>\n",
        "      <td> ST JOHNS COOLIDGE FLD</td>\n",
        "      <td> NaN</td>\n",
        "      <td> NaN</td>\n",
        "      <td>   NaN</td>\n",
        "    </tr>\n",
        "    <tr>\n",
        "      <th>ACW00011647</th>\n",
        "      <td> 17.1333</td>\n",
        "      <td>-61.7833</td>\n",
        "      <td>   19.2</td>\n",
        "      <td> NaN</td>\n",
        "      <td>              ST JOHNS</td>\n",
        "      <td> NaN</td>\n",
        "      <td> NaN</td>\n",
        "      <td>   NaN</td>\n",
        "    </tr>\n",
        "    <tr>\n",
        "      <th>AE000041196</th>\n",
        "      <td> 25.3330</td>\n",
        "      <td> 55.5170</td>\n",
        "      <td>   34.0</td>\n",
        "      <td> NaN</td>\n",
        "      <td>   SHARJAH INTER. AIRP</td>\n",
        "      <td> GSN</td>\n",
        "      <td> NaN</td>\n",
        "      <td> 41196</td>\n",
        "    </tr>\n",
        "    <tr>\n",
        "      <th>AF000040930</th>\n",
        "      <td> 35.3170</td>\n",
        "      <td> 69.0170</td>\n",
        "      <td> 3366.0</td>\n",
        "      <td> NaN</td>\n",
        "      <td>          NORTH-SALANG</td>\n",
        "      <td> GSN</td>\n",
        "      <td> NaN</td>\n",
        "      <td> 40930</td>\n",
        "    </tr>\n",
        "    <tr>\n",
        "      <th>AG000060390</th>\n",
        "      <td> 36.7167</td>\n",
        "      <td>  3.2500</td>\n",
        "      <td>   24.0</td>\n",
        "      <td> NaN</td>\n",
        "      <td>    ALGER-DAR EL BEIDA</td>\n",
        "      <td> GSN</td>\n",
        "      <td> NaN</td>\n",
        "      <td> 60390</td>\n",
        "    </tr>\n",
        "  </tbody>\n",
        "</table>\n",
        "<p>5 rows \u00d7 8 columns</p>\n",
        "</div>"
       ],
       "metadata": {},
       "output_type": "pyout",
       "prompt_number": 20,
       "text": [
        "             latitude  longitude  elevation state                   name  \\\n",
        "ACW00011604   17.1167   -61.7833       10.1   NaN  ST JOHNS COOLIDGE FLD   \n",
        "ACW00011647   17.1333   -61.7833       19.2   NaN               ST JOHNS   \n",
        "AE000041196   25.3330    55.5170       34.0   NaN    SHARJAH INTER. AIRP   \n",
        "AF000040930   35.3170    69.0170     3366.0   NaN           NORTH-SALANG   \n",
        "AG000060390   36.7167     3.2500       24.0   NaN     ALGER-DAR EL BEIDA   \n",
        "\n",
        "            GSNFLAG HCNFLAG  WMOID  \n",
        "ACW00011604     NaN     NaN    NaN  \n",
        "ACW00011647     NaN     NaN    NaN  \n",
        "AE000041196     GSN     NaN  41196  \n",
        "AF000040930     GSN     NaN  40930  \n",
        "AG000060390     GSN     NaN  60390  \n",
        "\n",
        "[5 rows x 8 columns]"
       ]
      }
     ],
     "prompt_number": 20
    },
    {
     "cell_type": "code",
     "collapsed": false,
     "input": [
      "!ls -l $data_dir/*"
     ],
     "language": "python",
     "metadata": {},
     "outputs": [
      {
       "output_type": "stream",
       "stream": "stdout",
       "text": [
        "-rw-r--r--  1 yoavfreund  staff    860337 May  7 19:06 ../../data/weather/ALL.head.csv\r\n",
        "-rw-r--r--  1 yoavfreund  staff  26114979 Apr 15 09:04 ../../data/weather/SAMPLE_TMAX.csv\r\n",
        "-rw-r--r--  1 yoavfreund  staff   8022358 Apr  7 14:23 ../../data/weather/SAMPLE_TMAX.csv.old.gz\r\n",
        "-rw-r--r--  1 yoavfreund  staff       218 Apr 15 09:04 ../../data/weather/data-source.txt\r\n",
        "-rw-r--r--  1 yoavfreund  staff     22422 Apr 15 09:04 ../../data/weather/ghcnd-readme.txt\r\n",
        "-rw-r--r--  1 yoavfreund  staff   7334424 Apr 15 09:04 ../../data/weather/ghcnd-stations.txt\r\n",
        "-rw-r--r--  1 yoavfreund  staff   7760844 Apr 15 09:04 ../../data/weather/ghcnd-stations_buffered.txt\r\n",
        "-rw-r--r--  1 yoavfreund  staff       270 Apr 15 09:04 ../../data/weather/ghcnd-version.txt\r\n"
       ]
      }
     ],
     "prompt_number": 31
    },
    {
     "cell_type": "code",
     "collapsed": false,
     "input": [
      "!head -2 $data_dir/ALL.head.csv"
     ],
     "language": "python",
     "metadata": {},
     "outputs": [
      {
       "output_type": "stream",
       "stream": "stdout",
       "text": [
        "station,year,measurement,1,2,3,4,5,6,7,8,9,10,11,12,13,14,15,16,17,18,19,20,21,22,23,24,25,26,27,28,29,30,31,32,33,34,35,36,37,38,39,40,41,42,43,44,45,46,47,48,49,50,51,52,53,54,55,56,57,58,59,60,61,62,63,64,65,66,67,68,69,70,71,72,73,74,75,76,77,78,79,80,81,82,83,84,85,86,87,88,89,90,91,92,93,94,95,96,97,98,99,100,101,102,103,104,105,106,107,108,109,110,111,112,113,114,115,116,117,118,119,120,121,122,123,124,125,126,127,128,129,130,131,132,133,134,135,136,137,138,139,140,141,142,143,144,145,146,147,148,149,150,151,152,153,154,155,156,157,158,159,160,161,162,163,164,165,166,167,168,169,170,171,172,173,174,175,176,177,178,179,180,181,182,183,184,185,186,187,188,189,190,191,192,193,194,195,196,197,198,199,200,201,202,203,204,205,206,207,208,209,210,211,212,213,214,215,216,217,218,219,220,221,222,223,224,225,226,227,228,229,230,231,232,233,234,235,236,237,238,239,240,241,242,243,244,245,246,247,248,249,250,251,252,253,254,255,256,257,258,259,260,261,262,263,264,265,266,267,268,269,270,271,272,273,274,275,276,277,278,279,280,281,282,283,284,285,286,287,288,289,290,291,292,293,294,295,296,297,298,299,300,301,302,303,304,305,306,307,308,309,310,311,312,313,314,315,316,317,318,319,320,321,322,323,324,325,326,327,328,329,330,331,332,333,334,335,336,337,338,339,340,341,342,343,344,345,346,347,348,349,350,351,352,353,354,355,356,357,358,359,360,361,362,363,364,365\r\n",
        "ASN00054128,DAPR,1969,,,,,,,,,,,,,,,,,,,,,,,,,,,,,,,,,,,,,,,,,,,,,,,,,,,,,,,,,,,,,,,,,,,,,,,,,,,,,,,,,,,,,,,,,,,,,,,,,,,,,,,,,,,,,,,,,,,,,,,,,,,,,,,,,,,,,,,,,,,,,,,,,,,,,,,,,,,,,,,,,,,,,,,,,,,,,,,,,,,,,,,,,,,,,,,,,,,,,,,,,,,,,,,,,,,,,,,,,,,,,,,,,,,,,,,,,,,,,,,,,,,,,,,2,,,,,,,,,,,,,,,,,,,,,,,,,,,,,,,,,,,,,,,,,,,,,,,,,,,,,,,,,,,,,,,,,,,,,,,,,,,,,,,,,,,,,,,,,,,,,,,,,,,,,,,,,,,,,,,,,,,,,,\r\n"
       ]
      }
     ],
     "prompt_number": 33
    },
    {
     "cell_type": "code",
     "collapsed": false,
     "input": [
      "!cp ../mrjob/mr_word_freq_counters.py mr_weather.py\n",
      "%load mr_weather.py"
     ],
     "language": "python",
     "metadata": {},
     "outputs": [],
     "prompt_number": 35
    },
    {
     "cell_type": "code",
     "collapsed": false,
     "input": [
      "%%writefile mr_weather.py\n",
      "#!/usr/bin/python\n",
      "\"\"\"\n",
      "count the number of measurements of each type\n",
      "\"\"\"\n",
      "from mrjob.job import MRJob\n",
      "import re\n",
      "from sys import stderr\n",
      "\n",
      "#logfile=open('log','w')\n",
      "logfile=stderr\n",
      "\n",
      "class MRWeather(MRJob):\n",
      "\n",
      "    def mapper(self, _, line):\n",
      "        self.increment_counter('MrJob Counters','mapper',1)\n",
      "        elements=line.split(',')\n",
      "        if elements[0]=='station':\n",
      "            yield('header',1)\n",
      "        else:\n",
      "            yield(elements[1],1)\n",
      "            \n",
      "    def combiner(self, word, counts):\n",
      "        self.increment_counter('MrJob Counters','combiner',1)\n",
      "        yield (word, sum(counts))\n",
      "        #l_counts=[c for c in counts]  # extract list from iterator\n",
      "        #S=sum(l_counts)\n",
      "        #logfile.write('combiner '+word+' ['+','.join([str(c) for c in l_counts])+']='+str(S)+'\\n')\n",
      "        #yield (word, S)\n",
      "\n",
      "    def reducer(self, word, counts):\n",
      "        self.increment_counter('MrJob Counters','reducer',1)\n",
      "        yield (word, sum(counts))\n",
      "        #l_counts=[c for c in counts]  # extract list from iterator\n",
      "        #S=sum(l_counts)\n",
      "        #logfile.write('reducer '+word+' ['+','.join([str(c) for c in l_counts])+']='+str(S)+'\\n')\n",
      "        #yield (word, S)\n",
      "\n",
      "if __name__ == '__main__':\n",
      "    MRWeather.run()"
     ],
     "language": "python",
     "metadata": {},
     "outputs": [
      {
       "output_type": "stream",
       "stream": "stdout",
       "text": [
        "Overwriting mr_weather.py\n"
       ]
      }
     ],
     "prompt_number": 53
    },
    {
     "cell_type": "code",
     "collapsed": false,
     "input": [
      "!python mr_weather.py /Users/yoavfreund/BigData/UCSD_BigData/data/weather/ALL.head.csv > counts"
     ],
     "language": "python",
     "metadata": {},
     "outputs": [
      {
       "output_type": "stream",
       "stream": "stdout",
       "text": [
        "using configs in /Users/yoavfreund/.mrjob.conf\r\n",
        "creating tmp directory /var/folders/80/c2kfvdvx5cx570r4vlzqgb840000gq/T/mr_weather.yoavfreund.20140508.031243.844491\r\n",
        "writing to /var/folders/80/c2kfvdvx5cx570r4vlzqgb840000gq/T/mr_weather.yoavfreund.20140508.031243.844491/step-0-mapper_part-00000\r\n"
       ]
      },
      {
       "output_type": "stream",
       "stream": "stdout",
       "text": [
        "Counters from step 1:\r\n",
        "  MrJob Counters:\r\n",
        "    combiner: 22\r\n",
        "    mapper: 1000\r\n",
        "writing to /var/folders/80/c2kfvdvx5cx570r4vlzqgb840000gq/T/mr_weather.yoavfreund.20140508.031243.844491/step-0-mapper-sorted\r\n",
        "> sort /var/folders/80/c2kfvdvx5cx570r4vlzqgb840000gq/T/mr_weather.yoavfreund.20140508.031243.844491/step-0-mapper_part-00000\r\n",
        "writing to /var/folders/80/c2kfvdvx5cx570r4vlzqgb840000gq/T/mr_weather.yoavfreund.20140508.031243.844491/step-0-reducer_part-00000\r\n",
        "Counters from step 1:\r\n",
        "  MrJob Counters:\r\n",
        "    combiner: 22\r\n",
        "    mapper: 1000\r\n",
        "    reducer: 22\r\n",
        "Moving /var/folders/80/c2kfvdvx5cx570r4vlzqgb840000gq/T/mr_weather.yoavfreund.20140508.031243.844491/step-0-reducer_part-00000 -> /var/folders/80/c2kfvdvx5cx570r4vlzqgb840000gq/T/mr_weather.yoavfreund.20140508.031243.844491/output/part-00000\r\n",
        "Streaming final output from /var/folders/80/c2kfvdvx5cx570r4vlzqgb840000gq/T/mr_weather.yoavfreund.20140508.031243.844491/output\r\n",
        "removing tmp directory /var/folders/80/c2kfvdvx5cx570r4vlzqgb840000gq/T/mr_weather.yoavfreund.20140508.031243.844491\r\n"
       ]
      }
     ],
     "prompt_number": 54
    },
    {
     "cell_type": "code",
     "collapsed": false,
     "input": [
      "!cat counts"
     ],
     "language": "python",
     "metadata": {},
     "outputs": [
      {
       "output_type": "stream",
       "stream": "stdout",
       "text": [
        "\"DAPR\"\t29\r\n",
        "\"DASF\"\t3\r\n",
        "\"DWPR\"\t17\r\n",
        "\"MDPR\"\t37\r\n",
        "\"MDSF\"\t5\r\n",
        "\"PRCP\"\t420\r\n",
        "\"SNOW\"\t83\r\n",
        "\"SNWD\"\t85\r\n",
        "\"TMAX\"\t123\r\n",
        "\"TMIN\"\t106\r\n",
        "\"TOBS\"\t45\r\n",
        "\"WT01\"\t12\r\n",
        "\"WT03\"\t7\r\n",
        "\"WT04\"\t5\r\n",
        "\"WT05\"\t2\r\n",
        "\"WT06\"\t3\r\n",
        "\"WT08\"\t2\r\n",
        "\"WT11\"\t3\r\n",
        "\"WT14\"\t4\r\n",
        "\"WT16\"\t5\r\n",
        "\"WT18\"\t3\r\n",
        "\"header\"\t1\r\n"
       ]
      }
     ],
     "prompt_number": 50
    },
    {
     "cell_type": "code",
     "collapsed": false,
     "input": [
      "%load $data_dir/ghcnd-readme.txt"
     ],
     "language": "python",
     "metadata": {},
     "outputs": [],
     "prompt_number": 52
    },
    {
     "cell_type": "markdown",
     "metadata": {},
     "source": [
      "ELEMENT    is the element type.   There are five core elements as well as a number\n",
      "           of addition elements.  \n",
      "\t   \n",
      "\t   The five core elements are:\n",
      "\n",
      "       PRCP = Precipitation (tenths of mm)\n",
      "   \t   SNOW = Snowfall (mm)\n",
      "\t   SNWD = Snow depth (mm)\n",
      "       TMAX = Maximum temperature (tenths of degrees C)\n",
      "       TMIN = Minimum temperature (tenths of degrees C)\n",
      "\t   \n",
      "\t   The other elements are:\n",
      "\t   \n",
      "\t   ACMC = Average cloudiness midnight to midnight from 30-second \n",
      "\t          ceilometer data (percent)\n",
      "\t   ACMH = Average cloudiness midnight to midnight from \n",
      "\t          manual observations (percent)\n",
      "           ACSC = Average cloudiness sunrise to sunset from 30-second \n",
      "\t          ceilometer data (percent)\n",
      "\t   ACSH = Average cloudiness sunrise to sunset from manual \n",
      "\t          observations (percent)\n",
      "\t   AWND = Average daily wind speed (tenths of meters per second)\n",
      "\t   DAEV = Number of days included in the multiday evaporation\n",
      "\t          total (MDEV)\n",
      "\t   DAPR = Number of days included in the multiday precipiation \n",
      "\t          total (MDPR)\n",
      "           DASF = Number of days included in the multiday snowfall \n",
      "\t          total (MDSF)\t\t  \n",
      "\t   DATN = Number of days included in the multiday minimum temperature \n",
      "\t         (MDTN)\n",
      "\t   DATX = Number of days included in the multiday maximum temperature \n",
      "\t          (MDTX)\n",
      "           DAWM = Number of days included in the multiday wind movement\n",
      "\t          (MDWM)\n",
      "\t   DWPR = Number of days with non-zero precipitation included in \n",
      "\t          multiday precipitation total (MDPR)\n",
      "\t   EVAP = Evaporation of water from evaporation pan (tenths of mm)\n",
      "\t   FMTM = Time of fastest mile or fastest 1-minute wind \n",
      "\t          (hours and minutes, i.e., HHMM)\n",
      "\t   FRGB = Base of frozen ground layer (cm)\n",
      "\t   FRGT = Top of frozen ground layer (cm)\n",
      "\t   FRTH = Thickness of frozen ground layer (cm)\n",
      "\t   GAHT = Difference between river and gauge height (cm)\n",
      "\t   MDEV = Multiday evaporation total (tenths of mm; use with DAEV)\n",
      "\t   MDPR = Multiday precipitation total (tenths of mm; use with DAPR and \n",
      "\t          DWPR, if available)\n",
      "\t   MDSF = Multiday snowfall total \n",
      "\t   MDTN = Multiday minimum temperature (tenths of degrees C; use with \n",
      "\t          DATN)\n",
      "\t   MDTX = Multiday maximum temperature (tenths of degress C; use with \n",
      "\t          DATX)\n",
      "\t   MDWM = Multiday wind movement (km)\n",
      "           MNPN = Daily minimum temperature of water in an evaporation pan \n",
      "\t         (tenths of degrees C)\n",
      "           MXPN = Daily maximum temperature of water in an evaporation pan \n",
      "\t         (tenths of degrees C)\n",
      "\t   PGTM = Peak gust time (hours and minutes, i.e., HHMM)\n",
      "\t   PSUN = Daily percent of possible sunshine (percent)\n",
      "\t   SN*# = Minimum soil temperature (tenths of degrees C)\n",
      "\t          where * corresponds to a code\n",
      "\t          for ground cover and # corresponds to a code for soil \n",
      "\t\t  depth.  \n",
      "\t\t  \n",
      "\t\t  Ground cover codes include the following:\n",
      "\t\t  0 = unknown\n",
      "\t\t  1 = grass\n",
      "\t\t  2 = fallow\n",
      "\t\t  3 = bare ground\n",
      "\t\t  4 = brome grass\n",
      "\t\t  5 = sod\n",
      "\t\t  6 = straw multch\n",
      "\t\t  7 = grass muck\n",
      "\t\t  8 = bare muck\n",
      "\t\t  \n",
      "\t\t  Depth codes include the following:\n",
      "\t\t  1 = 5 cm\n",
      "\t\t  2 = 10 cm\n",
      "\t\t  3 = 20 cm\n",
      "\t\t  4 = 50 cm\n",
      "\t\t  5 = 100 cm\n",
      "\t\t  6 = 150 cm\n",
      "\t\t  7 = 180 cm\n",
      "\t\t  \n",
      "\t   SX*# = Maximum soil temperature (tenths of degrees C) \n",
      "\t          where * corresponds to a code for ground cover \n",
      "\t\t  and # corresponds to a code for soil depth. \n",
      "\t\t  See SN*# for ground cover and depth codes. \n",
      "\n",
      "           THIC = Thickness of ice on water (tenths of mm)\t\n",
      " \t   TOBS = Temperature at the time of observation (tenths of degrees C)\n",
      "\t   TSUN = Daily total sunshine (minutes)\n",
      "\t   WDF1 = Direction of fastest 1-minute wind (degrees)\n",
      "\t   WDF2 = Direction of fastest 2-minute wind (degrees)\n",
      "\t   WDF5 = Direction of fastest 5-second wind (degrees)\n",
      "\t   WDFG = Direction of peak wind gust (degrees)\n",
      "\t   WDFI = Direction of highest instantaneous wind (degrees)\n",
      "\t   WDFM = Fastest mile wind direction (degrees)\n",
      "           WDMV = 24-hour wind movement (km)\t   \n",
      "           WESD = Water equivalent of snow on the ground (tenths of mm)\n",
      "\t   WESF = Water equivalent of snowfall (tenths of mm)\n",
      "\t   WSF1 = Fastest 1-minute wind speed (tenths of meters per second)\n",
      "\t   WSF2 = Fastest 2-minute wind speed (tenths of meters per second)\n",
      "\t   WSF5 = Fastest 5-second wind speed (tenths of meters per second)\n",
      "\t   WSFG = Peak guest wind speed (tenths of meters per second)\n",
      "\t   WSFI = Highest instantaneous wind speed (tenths of meters per second)\n",
      "\t   WSFM = Fastest mile wind speed (tenths of meters per second)\n",
      "\t   WT** = Weather Type where ** has one of the following values:\n",
      "\t   \n",
      "                  01 = Fog, ice fog, or freezing fog (may include heavy fog)\n",
      "                  02 = Heavy fog or heaving freezing fog (not always \n",
      "\t\t       distinquished from fog)\n",
      "                  03 = Thunder\n",
      "                  04 = Ice pellets, sleet, snow pellets, or small hail \n",
      "                  05 = Hail (may include small hail)\n",
      "                  06 = Glaze or rime \n",
      "                  07 = Dust, volcanic ash, blowing dust, blowing sand, or \n",
      "\t\t       blowing obstruction\n",
      "                  08 = Smoke or haze \n",
      "                  09 = Blowing or drifting snow\n",
      "                  10 = Tornado, waterspout, or funnel cloud \n",
      "                  11 = High or damaging winds\n",
      "                  12 = Blowing spray\n",
      "                  13 = Mist\n",
      "                  14 = Drizzle\n",
      "                  15 = Freezing drizzle \n",
      "                  16 = Rain (may include freezing rain, drizzle, and\n",
      "\t\t       freezing drizzle) \n",
      "                  17 = Freezing rain \n",
      "                  18 = Snow, snow pellets, snow grains, or ice crystals\n",
      "                  19 = Unknown source of precipitation \n",
      "                  21 = Ground fog \n",
      "                  22 = Ice fog or freezing fog\n",
      "\t\t  \n",
      "            WV** = Weather in the Vicinity where ** has one of the following \n",
      "\t           values:\n",
      "\t\t   \n",
      "\t\t   01 = Fog, ice fog, or freezing fog (may include heavy fog)\n",
      "\t\t   03 = Thunder\n",
      "\t\t   07 = Ash, dust, sand, or other blowing obstruction\n",
      "\t\t   18 = Snow or ice crystals\n",
      "\t\t   20 = Rain or snow shower\n"
     ]
    },
    {
     "cell_type": "code",
     "collapsed": false,
     "input": [
      "#plotting values as a function of the day-of-year\n",
      "dates=[date.fromordinal(i) for i in range(1,366)]\n",
      "def YearlyPlots(T,ttl='',size=(10,7)):\n",
      "    fig=plt.figure(1,figsize=size,dpi=300)\n",
      "    #fig, ax = plt.subplots(1)\n",
      "    if shape(T)[0] != 365:\n",
      "        raise ValueError(\"First dimension of T should be 365. Shape(T)=\"+str(shape(T)))\n",
      "    plot(dates,T);\n",
      "    # rotate and align the tick labels so they look better\n",
      "    fig.autofmt_xdate()\n",
      "    ylabel('temperature')\n",
      "    grid()\n",
      "    title(ttl)\n",
      "YearlyPlots(Data.ix[20:30,1:365].transpose(),ttl='A sample of yearly plots')"
     ],
     "language": "python",
     "metadata": {},
     "outputs": []
    },
    {
     "cell_type": "code",
     "collapsed": false,
     "input": [],
     "language": "python",
     "metadata": {},
     "outputs": []
    }
   ],
   "metadata": {}
  }
 ]
}