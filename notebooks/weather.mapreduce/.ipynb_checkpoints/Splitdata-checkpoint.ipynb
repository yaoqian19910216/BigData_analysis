{
 "metadata": {
  "name": "",
  "signature": "sha256:ef0a2fb35fa89244a73e5be1856a85954d6644312081acffc755eb70d2ff3679"
 },
 "nbformat": 3,
 "nbformat_minor": 0,
 "worksheets": [
  {
   "cells": [
    {
     "cell_type": "raw",
     "metadata": {},
     "source": [
      "Split data into small group\n",
      "\n",
      "First, we split data by region, Then we can do merge by using region data\n",
      "\n",
      "We use mapreduce to generate the all vaild [TMax, Tmin] format data to a large file , which is grouped by the region num\n",
      "\n",
      "Then, we split the large file into small file\n"
     ]
    },
    {
     "cell_type": "code",
     "collapsed": false,
     "input": [
      "import numpy as np\n",
      "import matplotlib.pyplot as plt\n",
      "import pandas as pd\n",
      "import re\n",
      "import pickle\n",
      "import gzip\n",
      "import cPickle\n",
      "from mpl_toolkits.basemap import Basemap\n",
      "from mrjob.job import MRJob\n",
      "from sys import stderr\n",
      "import sys,os\n",
      "data_dir = '/home/ubuntu/UCSD_BigData/data/weather/'\n",
      "sys.path.append('/home/ubuntu/UCSD_BigData/utils')\n",
      "from create_job_flow import *"
     ],
     "language": "python",
     "metadata": {},
     "outputs": [],
     "prompt_number": 2
    },
    {
     "cell_type": "code",
     "collapsed": false,
     "input": [
      "f = gzip.open('DD_station.pklz', \"rb\")\n",
      "pickleFile = cPickle.Unpickler(f)\n",
      "DD = pickleFile.load()\n",
      "f.close()"
     ],
     "language": "python",
     "metadata": {},
     "outputs": [],
     "prompt_number": 2
    },
    {
     "cell_type": "code",
     "collapsed": false,
     "input": [
      "ML_list = []\n",
      "for i in range(DD.shape[0]):\n",
      "    if DD.iloc[i]['longitude'] > -129.5:\n",
      "        ML_list.append(i)\n",
      "ML_station = DD.iloc[ML_list]"
     ],
     "language": "python",
     "metadata": {},
     "outputs": [],
     "prompt_number": 4
    },
    {
     "cell_type": "code",
     "collapsed": false,
     "input": [
      "from __future__ import division\n",
      "import pandas as pd\n",
      "import random\n",
      "\n",
      "count = 0\n",
      "class QuadTree:\n",
      "    def __init__(self, stations, depth, bounding_rect, maxIt):\n",
      "        global count\n",
      "        self.nw = self.ne = self.se = self.sw = None\n",
      "        self.maxIt = maxIt\n",
      "        self.depth = depth\n",
      "        self.bounding_rect = bounding_rect\n",
      "        cum_sum = stations.weight.cumsum()\n",
      "        if cum_sum.iloc[-1] <= self.maxIt and depth > 3:\n",
      "            print '-----Leaf-----', cum_sum.iloc[-1], '----Stations----', len(stations)\n",
      "            ML_station.loc[stations.index,'label']= count\n",
      "            #DD.loc[stations.index,'label']= regions[self.depth]\n",
      "            self.region = count\n",
      "            count += 1\n",
      "            self.items = stations.index\n",
      "            self.leaf = True\n",
      "            return\n",
      "        self.leaf = False\n",
      "        \n",
      "        l, t, r, b = bounding_rect\n",
      "        cx = self.cx = ( l + r ) * 0.5 \n",
      "        cy = self.cy = ( t + b ) * 0.5 \n",
      "\n",
      "        self.items = []\n",
      "        nw_items = []\n",
      "        ne_items = []\n",
      "        se_items = []\n",
      "        sw_items = []\n",
      "\n",
      "        for item in stations.index:\n",
      "            item_x = stations.loc[item, 'latitude']\n",
      "            item_y = stations.loc[item, 'longitude']\n",
      "            \n",
      "            in_nw = item_x <= cx and item_y >  cy  \n",
      "            in_ne = item_x >  cx and item_y >= cy\n",
      "            in_sw = item_x <= cx and item_y <  cy  \n",
      "            in_se = item_x >  cx and item_y <= cy\n",
      "            \n",
      "            if   in_nw: nw_items.append(item)\n",
      "            elif in_ne: ne_items.append(item)\n",
      "            elif in_sw: sw_items.append(item)\n",
      "            elif in_se: se_items.append(item)\n",
      "\n",
      "        if nw_items:\n",
      "            self.nw = QuadTree(stations.loc[nw_items], depth+1, (l, t, cx, cy),maxIt)\n",
      "        if ne_items:\n",
      "            self.ne = QuadTree(stations.loc[ne_items], depth+1, (cx, t, r, cy),maxIt)\n",
      "        if se_items:\n",
      "            self.se = QuadTree(stations.loc[se_items], depth+1, (cx, cy, r, b),maxIt)\n",
      "        if sw_items:\n",
      "            self.sw = QuadTree(stations.loc[sw_items], depth+1, (l, cy, cx, b),maxIt)"
     ],
     "language": "python",
     "metadata": {},
     "outputs": [],
     "prompt_number": 5
    },
    {
     "cell_type": "code",
     "collapsed": false,
     "input": [
      "count = 0\n",
      "QQ = QuadTree(ML_station, 0, [10, -60, 60, -130],2000)\n",
      "f = gzip.open('weighted_ML_station.pklz','wb')\n",
      "pickle.dump(ML_station.loc[:,['station', 'label']],f)\n",
      "f.close()"
     ],
     "language": "python",
     "metadata": {},
     "outputs": [
      {
       "output_type": "stream",
       "stream": "stdout",
       "text": [
        "-----Leaf----- 440.0 ----Stations---- 17\n",
        "-----Leaf-----"
       ]
      },
      {
       "output_type": "stream",
       "stream": "stdout",
       "text": [
        " 615.0 ----Stations---- 25\n",
        "-----Leaf-----"
       ]
      },
      {
       "output_type": "stream",
       "stream": "stdout",
       "text": [
        " 1834.0 ----Stations---- 54\n",
        "-----Leaf-----"
       ]
      },
      {
       "output_type": "stream",
       "stream": "stdout",
       "text": [
        " 749.0 ----Stations---- 28\n",
        "-----Leaf----- 451.0 ----Stations---- 15\n",
        "-----Leaf-----"
       ]
      },
      {
       "output_type": "stream",
       "stream": "stdout",
       "text": [
        " 581.0 ----Stations---- 15\n",
        "-----Leaf----- 402.0 ----Stations---- 17\n",
        "-----Leaf-----"
       ]
      },
      {
       "output_type": "stream",
       "stream": "stdout",
       "text": [
        " 1545.0 ----Stations---- 37\n",
        "-----Leaf----- 35.0 ----Stations---- 1\n",
        "-----Leaf-----"
       ]
      },
      {
       "output_type": "stream",
       "stream": "stdout",
       "text": [
        " 840.0 ----Stations---- 27\n",
        "-----Leaf----- 1257.0 ----Stations---- 35\n",
        "-----Leaf-----"
       ]
      },
      {
       "output_type": "stream",
       "stream": "stdout",
       "text": [
        " 171.0 ----Stations---- 6\n",
        "-----Leaf----- 1693.0 ----Stations---- 58\n",
        "-----Leaf-----"
       ]
      },
      {
       "output_type": "stream",
       "stream": "stdout",
       "text": [
        " 656.0 ----Stations---- 16\n",
        "-----Leaf----- 1004.0 ----Stations---- 21\n",
        "-----Leaf-----"
       ]
      },
      {
       "output_type": "stream",
       "stream": "stdout",
       "text": [
        " 713.0 ----Stations---- 12\n",
        "-----Leaf----- 952.0 ----Stations---- 26\n",
        "-----Leaf-----"
       ]
      },
      {
       "output_type": "stream",
       "stream": "stdout",
       "text": [
        " 1886.0 ----Stations---- 56\n",
        "-----Leaf-----"
       ]
      },
      {
       "output_type": "stream",
       "stream": "stdout",
       "text": [
        " 522.0 ----Stations---- 18\n",
        "-----Leaf----- 617.0 ----Stations---- 14\n",
        "-----Leaf-----"
       ]
      },
      {
       "output_type": "stream",
       "stream": "stdout",
       "text": [
        " 493.0 ----Stations---- 17\n",
        "-----Leaf----- 530.0 ----Stations---- 14\n",
        "-----Leaf-----"
       ]
      },
      {
       "output_type": "stream",
       "stream": "stdout",
       "text": [
        " 605.0 ----Stations---- 17\n",
        "-----Leaf----- 902.0 ----Stations---- 28\n",
        "-----Leaf-----"
       ]
      },
      {
       "output_type": "stream",
       "stream": "stdout",
       "text": [
        " 1135.0 ----Stations---- 30\n",
        "-----Leaf----- 602.0 ----Stations---- 17\n",
        "-----Leaf-----"
       ]
      },
      {
       "output_type": "stream",
       "stream": "stdout",
       "text": [
        " 670.0 ----Stations---- 21\n",
        "-----Leaf----- 595.0 ----Stations---- 22\n",
        "-----Leaf-----"
       ]
      },
      {
       "output_type": "stream",
       "stream": "stdout",
       "text": [
        " 635.0 ----Stations---- 18\n",
        "-----Leaf----- 527.0 ----Stations---- 13\n",
        "-----Leaf-----"
       ]
      },
      {
       "output_type": "stream",
       "stream": "stdout",
       "text": [
        " 537.0 ----Stations---- 17\n",
        "-----Leaf----- 546.0 ----Stations---- 17\n",
        "-----Leaf-----"
       ]
      },
      {
       "output_type": "stream",
       "stream": "stdout",
       "text": [
        " 812.0 ----Stations---- 14\n",
        "-----Leaf----- 424.0 ----Stations---- 12\n",
        "-----Leaf-----"
       ]
      },
      {
       "output_type": "stream",
       "stream": "stdout",
       "text": [
        " 1410.0 ----Stations---- 43\n",
        "-----Leaf----- 1887.0 ----Stations---- 58\n",
        "-----Leaf-----"
       ]
      },
      {
       "output_type": "stream",
       "stream": "stdout",
       "text": [
        " 577.0 ----Stations---- 18\n",
        "-----Leaf----- 744.0 ----Stations---- 19\n",
        "-----Leaf-----"
       ]
      },
      {
       "output_type": "stream",
       "stream": "stdout",
       "text": [
        " 435.0 ----Stations---- 16\n",
        "-----Leaf----- 484.0 ----Stations---- 15\n",
        "-----Leaf-----"
       ]
      },
      {
       "output_type": "stream",
       "stream": "stdout",
       "text": [
        " 458.0 ----Stations---- 16\n",
        "-----Leaf-----"
       ]
      },
      {
       "output_type": "stream",
       "stream": "stdout",
       "text": [
        " 73.0 ----Stations---- 3\n",
        "-----Leaf----- 1821.0 ----Stations---- 55\n",
        "-----Leaf-----"
       ]
      },
      {
       "output_type": "stream",
       "stream": "stdout",
       "text": [
        " 544.0 ----Stations---- 17\n",
        "-----Leaf----- 565.0 ----Stations---- 13\n",
        "-----Leaf-----"
       ]
      },
      {
       "output_type": "stream",
       "stream": "stdout",
       "text": [
        " 590.0 ----Stations---- 11\n",
        "-----Leaf----- 853.0 ----Stations---- 21\n",
        "-----Leaf-----"
       ]
      },
      {
       "output_type": "stream",
       "stream": "stdout",
       "text": [
        " 1262.0 ----Stations---- 45\n",
        "-----Leaf-----"
       ]
      },
      {
       "output_type": "stream",
       "stream": "stdout",
       "text": [
        " 709.0 ----Stations---- 18\n",
        "-----Leaf----- 456.0 ----Stations---- 17\n",
        "-----Leaf-----"
       ]
      },
      {
       "output_type": "stream",
       "stream": "stdout",
       "text": [
        " 446.0 ----Stations---- 10\n",
        "-----Leaf----- 447.0 ----Stations---- 11\n",
        "-----Leaf-----"
       ]
      },
      {
       "output_type": "stream",
       "stream": "stdout",
       "text": [
        " 569.0 ----Stations---- 17\n",
        "-----Leaf----- 621.0 ----Stations---- 22\n",
        "-----Leaf-----"
       ]
      },
      {
       "output_type": "stream",
       "stream": "stdout",
       "text": [
        " 431.0 ----Stations---- 16\n",
        "-----Leaf----- 416.0 ----Stations---- 11\n",
        "-----Leaf-----"
       ]
      },
      {
       "output_type": "stream",
       "stream": "stdout",
       "text": [
        " 628.0 ----Stations---- 16\n",
        "-----Leaf----- 827.0 ----Stations---- 16\n",
        "-----Leaf-----"
       ]
      },
      {
       "output_type": "stream",
       "stream": "stdout",
       "text": [
        " 526.0 ----Stations---- 10\n",
        "-----Leaf----- 707.0 ----Stations---- 15\n",
        "-----Leaf-----"
       ]
      },
      {
       "output_type": "stream",
       "stream": "stdout",
       "text": [
        " 490.0 ----Stations---- 15\n",
        "-----Leaf----- 456.0 ----Stations---- 12\n",
        "-----Leaf-----"
       ]
      },
      {
       "output_type": "stream",
       "stream": "stdout",
       "text": [
        " 648.0 ----Stations---- 12\n",
        "-----Leaf----- 432.0 ----Stations---- 15\n",
        "-----Leaf-----"
       ]
      },
      {
       "output_type": "stream",
       "stream": "stdout",
       "text": [
        " 629.0 ----Stations---- 18\n",
        "-----Leaf----- 585.0 ----Stations---- 12\n",
        "-----Leaf-----"
       ]
      },
      {
       "output_type": "stream",
       "stream": "stdout",
       "text": [
        " 347.0 ----Stations---- 11\n",
        "-----Leaf----- 629.0 ----Stations---- 22\n",
        "-----Leaf-----"
       ]
      },
      {
       "output_type": "stream",
       "stream": "stdout",
       "text": [
        " 500.0 ----Stations---- 12\n",
        "-----Leaf----- 597.0 ----Stations---- 7\n",
        "-----Leaf-----"
       ]
      },
      {
       "output_type": "stream",
       "stream": "stdout",
       "text": [
        " 575.0 ----Stations---- 10\n",
        "-----Leaf----- 454.0 ----Stations---- 10\n",
        "-----Leaf-----"
       ]
      },
      {
       "output_type": "stream",
       "stream": "stdout",
       "text": [
        " 616.0 ----Stations---- 9\n",
        "-----Leaf----- 681.0 ----Stations---- 15\n",
        "-----Leaf-----"
       ]
      },
      {
       "output_type": "stream",
       "stream": "stdout",
       "text": [
        " 459.0 ----Stations---- 13\n",
        "-----Leaf----- 573.0 ----Stations---- 18\n",
        "-----Leaf-----"
       ]
      },
      {
       "output_type": "stream",
       "stream": "stdout",
       "text": [
        " 1847.0 ----Stations---- 63\n",
        "-----Leaf-----"
       ]
      },
      {
       "output_type": "stream",
       "stream": "stdout",
       "text": [
        " 1515.0 ----Stations---- 35\n",
        "-----Leaf-----"
       ]
      },
      {
       "output_type": "stream",
       "stream": "stdout",
       "text": [
        " 724.0 ----Stations---- 22\n",
        "-----Leaf----- 310.0 ----Stations---- 12\n",
        "-----Leaf-----"
       ]
      },
      {
       "output_type": "stream",
       "stream": "stdout",
       "text": [
        " 638.0 ----Stations---- 28\n",
        "-----Leaf----- 624.0 ----Stations---- 12\n",
        "-----Leaf-----"
       ]
      },
      {
       "output_type": "stream",
       "stream": "stdout",
       "text": [
        " 1519.0 ----Stations---- 62\n",
        "-----Leaf----- 933.0 ----Stations---- 28\n",
        "-----Leaf-----"
       ]
      },
      {
       "output_type": "stream",
       "stream": "stdout",
       "text": [
        " 1744.0 ----Stations---- 58\n",
        "-----Leaf----- 39.0 ----Stations---- 5\n",
        "-----Leaf-----"
       ]
      },
      {
       "output_type": "stream",
       "stream": "stdout",
       "text": [
        " 1267.0 ----Stations---- 46\n",
        "-----Leaf----- 1319.0 ----Stations---- 55\n",
        "-----Leaf-----"
       ]
      },
      {
       "output_type": "stream",
       "stream": "stdout",
       "text": [
        " 1036.0 ----Stations---- 41\n",
        "-----Leaf----- 855.0 ----Stations---- 39\n",
        "-----Leaf-----"
       ]
      },
      {
       "output_type": "stream",
       "stream": "stdout",
       "text": [
        " 1072.0 ----Stations---- 39\n",
        "-----Leaf----- 759.0 ----Stations---- 30\n",
        "-----Leaf-----"
       ]
      },
      {
       "output_type": "stream",
       "stream": "stdout",
       "text": [
        " 1033.0 ----Stations---- 45\n",
        "-----Leaf-----"
       ]
      },
      {
       "output_type": "stream",
       "stream": "stdout",
       "text": [
        " 1021.0 ----Stations---- 38\n",
        "-----Leaf----- 971.0 ----Stations---- 23\n",
        "-----Leaf-----"
       ]
      },
      {
       "output_type": "stream",
       "stream": "stdout",
       "text": [
        " 249.0 ----Stations---- 15\n",
        "-----Leaf----- 333.0 ----Stations---- 18\n",
        "-----Leaf-----"
       ]
      },
      {
       "output_type": "stream",
       "stream": "stdout",
       "text": [
        " 1206.0 ----Stations---- 53\n",
        "-----Leaf----- 1180.0 ----Stations---- 40\n",
        "-----Leaf-----"
       ]
      },
      {
       "output_type": "stream",
       "stream": "stdout",
       "text": [
        " 1531.0 ----Stations---- 63\n",
        "-----Leaf----- 137.0 ----Stations---- 11\n",
        "-----Leaf-----"
       ]
      },
      {
       "output_type": "stream",
       "stream": "stdout",
       "text": [
        " 1277.0 ----Stations---- 52\n",
        "-----Leaf----- 1249.0 ----Stations---- 32\n",
        "-----Leaf-----"
       ]
      },
      {
       "output_type": "stream",
       "stream": "stdout",
       "text": [
        " 1471.0 ----Stations---- 46\n",
        "-----Leaf----- 1142.0 ----Stations---- 48\n",
        "-----Leaf-----"
       ]
      },
      {
       "output_type": "stream",
       "stream": "stdout",
       "text": [
        " 770.0 ----Stations---- 29\n",
        "-----Leaf----- 694.0 ----Stations---- 24\n",
        "-----Leaf-----"
       ]
      },
      {
       "output_type": "stream",
       "stream": "stdout",
       "text": [
        " 811.0 ----Stations---- 28\n",
        "-----Leaf----- 497.0 ----Stations---- 21\n",
        "-----Leaf-----"
       ]
      },
      {
       "output_type": "stream",
       "stream": "stdout",
       "text": [
        " 590.0 ----Stations---- 13\n",
        "-----Leaf----- 649.0 ----Stations---- 25\n",
        "-----Leaf-----"
       ]
      },
      {
       "output_type": "stream",
       "stream": "stdout",
       "text": [
        " 1681.0 ----Stations---- 58\n",
        "-----Leaf-----"
       ]
      },
      {
       "output_type": "stream",
       "stream": "stdout",
       "text": [
        " 369.0 ----Stations---- 13\n",
        "-----Leaf----- 636.0 ----Stations---- 26\n",
        "-----Leaf-----"
       ]
      },
      {
       "output_type": "stream",
       "stream": "stdout",
       "text": [
        " 830.0 ----Stations---- 27\n",
        "-----Leaf----- 623.0 ----Stations---- 17\n",
        "-----Leaf-----"
       ]
      },
      {
       "output_type": "stream",
       "stream": "stdout",
       "text": [
        " 623.0 ----Stations---- 22\n",
        "-----Leaf-----"
       ]
      },
      {
       "output_type": "stream",
       "stream": "stdout",
       "text": [
        " 1125.0 ----Stations---- 33\n",
        "-----Leaf-----"
       ]
      },
      {
       "output_type": "stream",
       "stream": "stdout",
       "text": [
        " 247.0 ----Stations---- 9\n",
        "-----Leaf----- 1905.0 ----Stations---- 69\n",
        "-----Leaf-----"
       ]
      },
      {
       "output_type": "stream",
       "stream": "stdout",
       "text": [
        " 1944.0 ----Stations---- 43\n",
        "-----Leaf----- 1792.0 ----Stations---- 52\n",
        "-----Leaf-----"
       ]
      },
      {
       "output_type": "stream",
       "stream": "stdout",
       "text": [
        " 1476.0 ----Stations---- 44\n",
        "-----Leaf----- 927.0 ----Stations---- 36\n",
        "-----Leaf-----"
       ]
      },
      {
       "output_type": "stream",
       "stream": "stdout",
       "text": [
        " 727.0 ----Stations---- 29\n",
        "-----Leaf----- 1122.0 ----Stations---- 35\n",
        "-----Leaf-----"
       ]
      },
      {
       "output_type": "stream",
       "stream": "stdout",
       "text": [
        " 1203.0 ----Stations---- 27\n",
        "-----Leaf----- 1216.0 ----Stations---- 36\n",
        "-----Leaf-----"
       ]
      },
      {
       "output_type": "stream",
       "stream": "stdout",
       "text": [
        " 930.0 ----Stations---- 27\n",
        "-----Leaf----- 323.0 ----Stations---- 17\n",
        "-----Leaf-----"
       ]
      },
      {
       "output_type": "stream",
       "stream": "stdout",
       "text": [
        " 504.0 ----Stations---- 17\n",
        "-----Leaf----- 609.0 ----Stations---- 25\n",
        "-----Leaf-----"
       ]
      },
      {
       "output_type": "stream",
       "stream": "stdout",
       "text": [
        " 1399.0 ----Stations---- 52\n",
        "-----Leaf-----"
       ]
      },
      {
       "output_type": "stream",
       "stream": "stdout",
       "text": [
        " 62.0 ----Stations---- 2\n",
        "-----Leaf-----"
       ]
      },
      {
       "output_type": "stream",
       "stream": "stdout",
       "text": [
        " 557.0 ----Stations---- 17\n",
        "-----Leaf----- 508.0 ----Stations---- 24\n",
        "-----Leaf-----"
       ]
      },
      {
       "output_type": "stream",
       "stream": "stdout",
       "text": [
        " 621.0 ----Stations---- 20\n",
        "-----Leaf----- 715.0 ----Stations---- 27\n",
        "-----Leaf-----"
       ]
      },
      {
       "output_type": "stream",
       "stream": "stdout",
       "text": [
        " 1551.0 ----Stations---- 49\n",
        "-----Leaf----- 112.0 ----Stations---- 7\n",
        "-----Leaf-----"
       ]
      },
      {
       "output_type": "stream",
       "stream": "stdout",
       "text": [
        " 178.0 ----Stations---- 8\n",
        "-----Leaf----- 1183.0 ----Stations---- 57\n",
        "-----Leaf-----"
       ]
      },
      {
       "output_type": "stream",
       "stream": "stdout",
       "text": [
        " 626.0 ----Stations---- 16\n",
        "-----Leaf----- 692.0 ----Stations---- 14\n",
        "-----Leaf-----"
       ]
      },
      {
       "output_type": "stream",
       "stream": "stdout",
       "text": [
        " 862.0 ----Stations---- 26\n",
        "-----Leaf----- 853.0 ----Stations---- 29\n",
        "-----Leaf-----"
       ]
      },
      {
       "output_type": "stream",
       "stream": "stdout",
       "text": [
        " 469.0 ----Stations---- 16\n",
        "-----Leaf----- 675.0 ----Stations---- 25\n",
        "-----Leaf-----"
       ]
      },
      {
       "output_type": "stream",
       "stream": "stdout",
       "text": [
        " 535.0 ----Stations---- 23\n",
        "-----Leaf----- 480.0 ----Stations---- 12\n",
        "-----Leaf-----"
       ]
      },
      {
       "output_type": "stream",
       "stream": "stdout",
       "text": [
        " 764.0 ----Stations---- 19\n",
        "-----Leaf----- 757.0 ----Stations---- 21\n",
        "-----Leaf-----"
       ]
      },
      {
       "output_type": "stream",
       "stream": "stdout",
       "text": [
        " 1037.0 ----Stations---- 30\n",
        "-----Leaf----- 719.0 ----Stations---- 21\n",
        "-----Leaf-----"
       ]
      },
      {
       "output_type": "stream",
       "stream": "stdout",
       "text": [
        " 538.0 ----Stations---- 11\n",
        "-----Leaf----- 837.0 ----Stations---- 22\n",
        "-----Leaf-----"
       ]
      },
      {
       "output_type": "stream",
       "stream": "stdout",
       "text": [
        " 1049.0 ----Stations---- 26\n",
        "-----Leaf----- 754.0 ----Stations---- 16\n",
        "-----Leaf-----"
       ]
      },
      {
       "output_type": "stream",
       "stream": "stdout",
       "text": [
        " 714.0 ----Stations---- 28\n",
        "-----Leaf----- 1277.0 ----Stations---- 41\n",
        "-----Leaf-----"
       ]
      },
      {
       "output_type": "stream",
       "stream": "stdout",
       "text": [
        " 1591.0 ----Stations---- 52\n",
        "-----Leaf----- 632.0 ----Stations---- 18\n",
        "-----Leaf-----"
       ]
      },
      {
       "output_type": "stream",
       "stream": "stdout",
       "text": [
        " 604.0 ----Stations---- 23\n",
        "-----Leaf----- 761.0 ----Stations---- 29\n",
        "-----Leaf-----"
       ]
      },
      {
       "output_type": "stream",
       "stream": "stdout",
       "text": [
        " 730.0 ----Stations---- 20\n",
        "-----Leaf----- 1033.0 ----Stations---- 37\n",
        "-----Leaf-----"
       ]
      },
      {
       "output_type": "stream",
       "stream": "stdout",
       "text": [
        " 1233.0 ----Stations---- 41\n",
        "-----Leaf----- 867.0 ----Stations---- 27\n",
        "-----Leaf-----"
       ]
      },
      {
       "output_type": "stream",
       "stream": "stdout",
       "text": [
        " 719.0 ----Stations---- 28\n",
        "-----Leaf----- 711.0 ----Stations---- 21\n",
        "-----Leaf-----"
       ]
      },
      {
       "output_type": "stream",
       "stream": "stdout",
       "text": [
        " 924.0 ----Stations---- 38\n",
        "-----Leaf----- 1247.0 ----Stations---- 30\n",
        "-----Leaf-----"
       ]
      },
      {
       "output_type": "stream",
       "stream": "stdout",
       "text": [
        " 1202.0 ----Stations---- 28\n",
        "-----Leaf----- 683.0 ----Stations---- 26\n",
        "-----Leaf-----"
       ]
      },
      {
       "output_type": "stream",
       "stream": "stdout",
       "text": [
        " 1051.0 ----Stations---- 31\n",
        "-----Leaf----- 560.0 ----Stations---- 17\n",
        "-----Leaf-----"
       ]
      },
      {
       "output_type": "stream",
       "stream": "stdout",
       "text": [
        " 788.0 ----Stations---- 20\n",
        "-----Leaf----- 316.0 ----Stations---- 16\n",
        "-----Leaf-----"
       ]
      },
      {
       "output_type": "stream",
       "stream": "stdout",
       "text": [
        " 1178.0 ----Stations---- 29\n",
        "-----Leaf----- 844.0 ----Stations---- 19\n",
        "-----Leaf-----"
       ]
      },
      {
       "output_type": "stream",
       "stream": "stdout",
       "text": [
        " 1047.0 ----Stations---- 18\n",
        "-----Leaf----- 885.0 ----Stations---- 22\n",
        "-----Leaf-----"
       ]
      },
      {
       "output_type": "stream",
       "stream": "stdout",
       "text": [
        " 925.0 ----Stations---- 18\n",
        "-----Leaf----- 558.0 ----Stations---- 10\n",
        "-----Leaf-----"
       ]
      },
      {
       "output_type": "stream",
       "stream": "stdout",
       "text": [
        " 722.0 ----Stations---- 17\n",
        "-----Leaf----- 950.0 ----Stations---- 24\n",
        "-----Leaf-----"
       ]
      },
      {
       "output_type": "stream",
       "stream": "stdout",
       "text": [
        " 699.0 ----Stations---- 19\n",
        "-----Leaf----- 1025.0 ----Stations---- 38\n",
        "-----Leaf-----"
       ]
      },
      {
       "output_type": "stream",
       "stream": "stdout",
       "text": [
        " 932.0 ----Stations---- 24\n",
        "-----Leaf----- 870.0 ----Stations---- 18\n",
        "-----Leaf-----"
       ]
      },
      {
       "output_type": "stream",
       "stream": "stdout",
       "text": [
        " 1665.0 ----Stations---- 51\n",
        "-----Leaf----- 828.0 ----Stations---- 27\n",
        "-----Leaf-----"
       ]
      },
      {
       "output_type": "stream",
       "stream": "stdout",
       "text": [
        " 765.0 ----Stations---- 22\n",
        "-----Leaf----- 1049.0 ----Stations---- 35\n",
        "-----Leaf-----"
       ]
      },
      {
       "output_type": "stream",
       "stream": "stdout",
       "text": [
        " 1940.0 ----Stations---- 90\n",
        "-----Leaf-----"
       ]
      },
      {
       "output_type": "stream",
       "stream": "stdout",
       "text": [
        " 555.0 ----Stations---- 21\n",
        "-----Leaf----- 704.0 ----Stations---- 15\n",
        "-----Leaf-----"
       ]
      },
      {
       "output_type": "stream",
       "stream": "stdout",
       "text": [
        " 464.0 ----Stations---- 22\n",
        "-----Leaf----- 616.0 ----Stations---- 18\n",
        "-----Leaf-----"
       ]
      },
      {
       "output_type": "stream",
       "stream": "stdout",
       "text": [
        " 377.0 ----Stations---- 13\n",
        "-----Leaf----- 683.0 ----Stations---- 24\n",
        "-----Leaf-----"
       ]
      },
      {
       "output_type": "stream",
       "stream": "stdout",
       "text": [
        " 662.0 ----Stations---- 22\n",
        "-----Leaf----- 652.0 ----Stations---- 19\n",
        "-----Leaf-----"
       ]
      },
      {
       "output_type": "stream",
       "stream": "stdout",
       "text": [
        " 470.0 ----Stations---- 27\n",
        "-----Leaf----- 1032.0 ----Stations---- 29\n",
        "-----Leaf-----"
       ]
      },
      {
       "output_type": "stream",
       "stream": "stdout",
       "text": [
        " 686.0 ----Stations---- 20\n",
        "-----Leaf----- 643.0 ----Stations---- 18\n",
        "-----Leaf-----"
       ]
      },
      {
       "output_type": "stream",
       "stream": "stdout",
       "text": [
        " 998.0 ----Stations---- 29\n",
        "-----Leaf----- 1547.0 ----Stations---- 53\n",
        "-----Leaf-----"
       ]
      },
      {
       "output_type": "stream",
       "stream": "stdout",
       "text": [
        " 546.0 ----Stations---- 17\n",
        "-----Leaf----- 60.0 ----Stations---- 1\n",
        "-----Leaf-----"
       ]
      },
      {
       "output_type": "stream",
       "stream": "stdout",
       "text": [
        " 759.0 ----Stations---- 28\n",
        "-----Leaf-----"
       ]
      },
      {
       "output_type": "stream",
       "stream": "stdout",
       "text": [
        " 788.0 ----Stations---- 20\n",
        "-----Leaf----- 874.0 ----Stations---- 18\n",
        "-----Leaf-----"
       ]
      },
      {
       "output_type": "stream",
       "stream": "stdout",
       "text": [
        " 130.0 ----Stations---- 3\n",
        "-----Leaf----- 568.0 ----Stations---- 26\n",
        "-----Leaf-----"
       ]
      },
      {
       "output_type": "stream",
       "stream": "stdout",
       "text": [
        " 597.0 ----Stations---- 11\n",
        "-----Leaf----- 199.0 ----Stations---- 8\n",
        "-----Leaf-----"
       ]
      },
      {
       "output_type": "stream",
       "stream": "stdout",
       "text": [
        " 951.0 ----Stations---- 38\n",
        "-----Leaf----- 690.0 ----Stations---- 24\n",
        "-----Leaf-----"
       ]
      },
      {
       "output_type": "stream",
       "stream": "stdout",
       "text": [
        " 1473.0 ----Stations---- 62\n",
        "-----Leaf-----"
       ]
      },
      {
       "output_type": "stream",
       "stream": "stdout",
       "text": [
        " 745.0 ----Stations---- 15\n",
        "-----Leaf----- 519.0 ----Stations---- 11\n",
        "-----Leaf-----"
       ]
      },
      {
       "output_type": "stream",
       "stream": "stdout",
       "text": [
        " 510.0 ----Stations---- 16\n",
        "-----Leaf----- 632.0 ----Stations---- 24\n",
        "-----Leaf-----"
       ]
      },
      {
       "output_type": "stream",
       "stream": "stdout",
       "text": [
        " 1012.0 ----Stations---- 23\n",
        "-----Leaf----- 367.0 ----Stations---- 20\n",
        "-----Leaf-----"
       ]
      },
      {
       "output_type": "stream",
       "stream": "stdout",
       "text": [
        " 825.0 ----Stations---- 22\n",
        "-----Leaf----- 757.0 ----Stations---- 25\n",
        "-----Leaf-----"
       ]
      },
      {
       "output_type": "stream",
       "stream": "stdout",
       "text": [
        " 694.0 ----Stations---- 20\n",
        "-----Leaf----- 251.0 ----Stations---- 7\n",
        "-----Leaf-----"
       ]
      },
      {
       "output_type": "stream",
       "stream": "stdout",
       "text": [
        " 809.0 ----Stations---- 28\n",
        "-----Leaf----- 1015.0 ----Stations---- 30\n",
        "-----Leaf-----"
       ]
      },
      {
       "output_type": "stream",
       "stream": "stdout",
       "text": [
        " 1637.0 ----Stations---- 45\n",
        "-----Leaf-----"
       ]
      },
      {
       "output_type": "stream",
       "stream": "stdout",
       "text": [
        " 1165.0 ----Stations---- 26\n",
        "-----Leaf----- 985.0 ----Stations---- 19\n",
        "-----Leaf-----"
       ]
      },
      {
       "output_type": "stream",
       "stream": "stdout",
       "text": [
        " 766.0 ----Stations---- 21\n",
        "-----Leaf----- 522.0 ----Stations---- 14\n",
        "-----Leaf-----"
       ]
      },
      {
       "output_type": "stream",
       "stream": "stdout",
       "text": [
        " 771.0 ----Stations---- 21\n",
        "-----Leaf----- 621.0 ----Stations---- 16\n",
        "-----Leaf-----"
       ]
      },
      {
       "output_type": "stream",
       "stream": "stdout",
       "text": [
        " 624.0 ----Stations---- 15\n",
        "-----Leaf----- 788.0 ----Stations---- 13\n",
        "-----Leaf-----"
       ]
      },
      {
       "output_type": "stream",
       "stream": "stdout",
       "text": [
        " 1273.0 ----Stations---- 37\n",
        "-----Leaf----- 994.0 ----Stations---- 33\n",
        "-----Leaf-----"
       ]
      },
      {
       "output_type": "stream",
       "stream": "stdout",
       "text": [
        " 1192.0 ----Stations---- 47\n",
        "-----Leaf-----"
       ]
      },
      {
       "output_type": "stream",
       "stream": "stdout",
       "text": [
        " 328.0 ----Stations---- 10\n",
        "-----Leaf----- 658.0 ----Stations---- 15\n",
        "-----Leaf-----"
       ]
      },
      {
       "output_type": "stream",
       "stream": "stdout",
       "text": [
        " 573.0 ----Stations---- 9\n",
        "-----Leaf----- 906.0 ----Stations---- 13\n",
        "-----Leaf-----"
       ]
      },
      {
       "output_type": "stream",
       "stream": "stdout",
       "text": [
        " 566.0 ----Stations---- 12\n",
        "-----Leaf----- 445.0 ----Stations---- 9\n",
        "-----Leaf-----"
       ]
      },
      {
       "output_type": "stream",
       "stream": "stdout",
       "text": [
        " 763.0 ----Stations---- 15\n",
        "-----Leaf----- 384.0 ----Stations---- 13\n",
        "-----Leaf-----"
       ]
      },
      {
       "output_type": "stream",
       "stream": "stdout",
       "text": [
        " 1842.0 ----Stations---- 49\n",
        "-----Leaf----- 1698.0 ----Stations---- 40\n",
        "-----Leaf-----"
       ]
      },
      {
       "output_type": "stream",
       "stream": "stdout",
       "text": [
        " 914.0 ----Stations---- 31\n",
        "-----Leaf----- 550.0 ----Stations---- 14\n",
        "-----Leaf-----"
       ]
      },
      {
       "output_type": "stream",
       "stream": "stdout",
       "text": [
        " 418.0 ----Stations---- 11\n",
        "-----Leaf----- 420.0 ----Stations---- 15\n",
        "-----Leaf-----"
       ]
      },
      {
       "output_type": "stream",
       "stream": "stdout",
       "text": [
        " 710.0 ----Stations---- 14\n",
        "-----Leaf----- 805.0 ----Stations---- 16\n",
        "-----Leaf-----"
       ]
      },
      {
       "output_type": "stream",
       "stream": "stdout",
       "text": [
        " 863.0 ----Stations---- 14\n",
        "-----Leaf----- 569.0 ----Stations---- 7\n",
        "-----Leaf-----"
       ]
      },
      {
       "output_type": "stream",
       "stream": "stdout",
       "text": [
        " 687.0 ----Stations---- 13\n",
        "-----Leaf----- 780.0 ----Stations---- 19\n",
        "-----Leaf-----"
       ]
      },
      {
       "output_type": "stream",
       "stream": "stdout",
       "text": [
        " 607.0 ----Stations---- 14\n",
        "-----Leaf----- 646.0 ----Stations---- 10\n",
        "-----Leaf-----"
       ]
      },
      {
       "output_type": "stream",
       "stream": "stdout",
       "text": [
        " 567.0 ----Stations---- 6\n",
        "-----Leaf----- 507.0 ----Stations---- 12\n",
        "-----Leaf-----"
       ]
      },
      {
       "output_type": "stream",
       "stream": "stdout",
       "text": [
        " 711.0 ----Stations---- 16\n",
        "-----Leaf----- 440.0 ----Stations---- 7\n",
        "-----Leaf-----"
       ]
      },
      {
       "output_type": "stream",
       "stream": "stdout",
       "text": [
        " 879.0 ----Stations---- 21\n",
        "-----Leaf----- 719.0 ----Stations---- 14\n",
        "-----Leaf-----"
       ]
      },
      {
       "output_type": "stream",
       "stream": "stdout",
       "text": [
        " 847.0 ----Stations---- 12\n",
        "-----Leaf----- 602.0 ----Stations---- 8\n",
        "-----Leaf-----"
       ]
      },
      {
       "output_type": "stream",
       "stream": "stdout",
       "text": [
        " 847.0 ----Stations---- 19\n",
        "-----Leaf----- 923.0 ----Stations---- 31\n",
        "-----Leaf-----"
       ]
      },
      {
       "output_type": "stream",
       "stream": "stdout",
       "text": [
        " 593.0 ----Stations---- 20\n",
        "-----Leaf----- 615.0 ----Stations---- 15\n",
        "-----Leaf-----"
       ]
      },
      {
       "output_type": "stream",
       "stream": "stdout",
       "text": [
        " 437.0 ----Stations---- 10\n",
        "-----Leaf----- 708.0 ----Stations---- 21\n",
        "-----Leaf-----"
       ]
      },
      {
       "output_type": "stream",
       "stream": "stdout",
       "text": [
        " 584.0 ----Stations---- 17\n",
        "-----Leaf----- 594.0 ----Stations---- 16\n",
        "-----Leaf-----"
       ]
      },
      {
       "output_type": "stream",
       "stream": "stdout",
       "text": [
        " 714.0 ----Stations---- 24\n",
        "-----Leaf----- 894.0 ----Stations---- 22\n",
        "-----Leaf-----"
       ]
      },
      {
       "output_type": "stream",
       "stream": "stdout",
       "text": [
        " 533.0 ----Stations---- 12\n",
        "-----Leaf----- 755.0 ----Stations---- 16\n",
        "-----Leaf-----"
       ]
      },
      {
       "output_type": "stream",
       "stream": "stdout",
       "text": [
        " 684.0 ----Stations---- 13\n",
        "-----Leaf----- 703.0 ----Stations---- 13\n",
        "-----Leaf-----"
       ]
      },
      {
       "output_type": "stream",
       "stream": "stdout",
       "text": [
        " 571.0 ----Stations---- 15\n",
        "-----Leaf----- 575.0 ----Stations---- 17\n",
        "-----Leaf-----"
       ]
      },
      {
       "output_type": "stream",
       "stream": "stdout",
       "text": [
        " 977.0 ----Stations---- 24\n",
        "-----Leaf----- 544.0 ----Stations---- 14\n",
        "-----Leaf-----"
       ]
      },
      {
       "output_type": "stream",
       "stream": "stdout",
       "text": [
        " 709.0 ----Stations---- 17\n",
        "-----Leaf----- 789.0 ----Stations---- 18\n",
        "-----Leaf-----"
       ]
      },
      {
       "output_type": "stream",
       "stream": "stdout",
       "text": [
        " 760.0 ----Stations---- 18\n",
        "-----Leaf----- 724.0 ----Stations---- 15\n",
        "-----Leaf-----"
       ]
      },
      {
       "output_type": "stream",
       "stream": "stdout",
       "text": [
        " 444.0 ----Stations---- 11\n",
        "-----Leaf----- 650.0 ----Stations---- 17\n",
        "-----Leaf-----"
       ]
      },
      {
       "output_type": "stream",
       "stream": "stdout",
       "text": [
        " 1902.0 ----Stations---- 51\n",
        "-----Leaf-----"
       ]
      },
      {
       "output_type": "stream",
       "stream": "stdout",
       "text": [
        " 521.0 ----Stations---- 10\n",
        "-----Leaf----- 758.0 ----Stations---- 16\n",
        "-----Leaf-----"
       ]
      },
      {
       "output_type": "stream",
       "stream": "stdout",
       "text": [
        " 422.0 ----Stations---- 10\n",
        "-----Leaf----- 864.0 ----Stations---- 25\n",
        "-----Leaf-----"
       ]
      },
      {
       "output_type": "stream",
       "stream": "stdout",
       "text": [
        " 419.0 ----Stations---- 13\n",
        "-----Leaf----- 486.0 ----Stations---- 12\n",
        "-----Leaf-----"
       ]
      },
      {
       "output_type": "stream",
       "stream": "stdout",
       "text": [
        " 740.0 ----Stations---- 18\n",
        "-----Leaf----- 712.0 ----Stations---- 13\n",
        "-----Leaf-----"
       ]
      },
      {
       "output_type": "stream",
       "stream": "stdout",
       "text": [
        " 647.0 ----Stations---- 14\n",
        "-----Leaf----- 772.0 ----Stations---- 13\n",
        "-----Leaf-----"
       ]
      },
      {
       "output_type": "stream",
       "stream": "stdout",
       "text": [
        " 681.0 ----Stations---- 12\n",
        "-----Leaf----- 469.0 ----Stations---- 8\n",
        "-----Leaf-----"
       ]
      },
      {
       "output_type": "stream",
       "stream": "stdout",
       "text": [
        " 494.0 ----Stations---- 15\n",
        "-----Leaf----- 676.0 ----Stations---- 12\n",
        "-----Leaf-----"
       ]
      },
      {
       "output_type": "stream",
       "stream": "stdout",
       "text": [
        " 839.0 ----Stations---- 12\n",
        "-----Leaf----- 667.0 ----Stations---- 13\n",
        "-----Leaf-----"
       ]
      },
      {
       "output_type": "stream",
       "stream": "stdout",
       "text": [
        " 669.0 ----Stations---- 14\n",
        "-----Leaf----- 558.0 ----Stations---- 10\n",
        "-----Leaf-----"
       ]
      },
      {
       "output_type": "stream",
       "stream": "stdout",
       "text": [
        " 649.0 ----Stations---- 33\n",
        "-----Leaf----- 745.0 ----Stations---- 19\n",
        "-----Leaf-----"
       ]
      },
      {
       "output_type": "stream",
       "stream": "stdout",
       "text": [
        " 535.0 ----Stations---- 17\n",
        "-----Leaf----- 527.0 ----Stations---- 8\n",
        "-----Leaf-----"
       ]
      },
      {
       "output_type": "stream",
       "stream": "stdout",
       "text": [
        " 586.0 ----Stations---- 16\n",
        "-----Leaf----- 366.0 ----Stations---- 9\n",
        "-----Leaf-----"
       ]
      },
      {
       "output_type": "stream",
       "stream": "stdout",
       "text": [
        " 1984.0 ----Stations---- 57\n",
        "-----Leaf-----"
       ]
      },
      {
       "output_type": "stream",
       "stream": "stdout",
       "text": [
        " 613.0 ----Stations---- 20\n",
        "-----Leaf----- 376.0 ----Stations---- 11\n",
        "-----Leaf-----"
       ]
      },
      {
       "output_type": "stream",
       "stream": "stdout",
       "text": [
        " 573.0 ----Stations---- 9\n",
        "-----Leaf----- 748.0 ----Stations---- 19\n",
        "-----Leaf-----"
       ]
      },
      {
       "output_type": "stream",
       "stream": "stdout",
       "text": [
        " 669.0 ----Stations---- 21\n",
        "-----Leaf----- 430.0 ----Stations---- 13\n",
        "-----Leaf-----"
       ]
      },
      {
       "output_type": "stream",
       "stream": "stdout",
       "text": [
        " 945.0 ----Stations---- 19\n",
        "-----Leaf----- 538.0 ----Stations---- 14\n",
        "-----Leaf-----"
       ]
      },
      {
       "output_type": "stream",
       "stream": "stdout",
       "text": [
        " 534.0 ----Stations---- 12\n",
        "-----Leaf----- 721.0 ----Stations---- 12\n",
        "-----Leaf-----"
       ]
      },
      {
       "output_type": "stream",
       "stream": "stdout",
       "text": [
        " 625.0 ----Stations---- 20\n",
        "-----Leaf----- 678.0 ----Stations---- 15\n",
        "-----Leaf-----"
       ]
      },
      {
       "output_type": "stream",
       "stream": "stdout",
       "text": [
        " 482.0 ----Stations---- 13\n",
        "-----Leaf----- 716.0 ----Stations---- 14\n",
        "-----Leaf-----"
       ]
      },
      {
       "output_type": "stream",
       "stream": "stdout",
       "text": [
        " 399.0 ----Stations---- 9\n",
        "-----Leaf----- 751.0 ----Stations---- 14\n",
        "-----Leaf-----"
       ]
      },
      {
       "output_type": "stream",
       "stream": "stdout",
       "text": [
        " 505.0 ----Stations---- 9\n",
        "-----Leaf----- 597.0 ----Stations---- 18\n",
        "-----Leaf-----"
       ]
      },
      {
       "output_type": "stream",
       "stream": "stdout",
       "text": [
        " 405.0 ----Stations---- 6\n",
        "-----Leaf----- 634.0 ----Stations---- 16\n",
        "-----Leaf-----"
       ]
      },
      {
       "output_type": "stream",
       "stream": "stdout",
       "text": [
        " 688.0 ----Stations---- 24\n",
        "-----Leaf----- 789.0 ----Stations---- 20\n",
        "-----Leaf-----"
       ]
      },
      {
       "output_type": "stream",
       "stream": "stdout",
       "text": [
        " 506.0 ----Stations---- 15\n",
        "-----Leaf----- 582.0 ----Stations---- 17\n",
        "-----Leaf-----"
       ]
      },
      {
       "output_type": "stream",
       "stream": "stdout",
       "text": [
        " 530.0 ----Stations---- 10\n",
        "-----Leaf----- 745.0 ----Stations---- 21\n",
        "-----Leaf-----"
       ]
      },
      {
       "output_type": "stream",
       "stream": "stdout",
       "text": [
        " 623.0 ----Stations---- 14\n",
        "-----Leaf----- 691.0 ----Stations---- 14\n",
        "-----Leaf-----"
       ]
      },
      {
       "output_type": "stream",
       "stream": "stdout",
       "text": [
        " 574.0 ----Stations---- 16\n",
        "-----Leaf----- 702.0 ----Stations---- 15\n",
        "-----Leaf-----"
       ]
      },
      {
       "output_type": "stream",
       "stream": "stdout",
       "text": [
        " 1014.0 ----Stations---- 22\n",
        "-----Leaf----- 764.0 ----Stations---- 18\n",
        "-----Leaf-----"
       ]
      },
      {
       "output_type": "stream",
       "stream": "stdout",
       "text": [
        " 455.0 ----Stations---- 12\n",
        "-----Leaf----- 733.0 ----Stations---- 13\n",
        "-----Leaf-----"
       ]
      },
      {
       "output_type": "stream",
       "stream": "stdout",
       "text": [
        " 772.0 ----Stations---- 14\n",
        "-----Leaf----- 686.0 ----Stations---- 14\n",
        "-----Leaf-----"
       ]
      },
      {
       "output_type": "stream",
       "stream": "stdout",
       "text": [
        " 1873.0 ----Stations---- 49\n",
        "-----Leaf-----"
       ]
      },
      {
       "output_type": "stream",
       "stream": "stdout",
       "text": [
        " 1620.0 ----Stations---- 36\n",
        "-----Leaf-----"
       ]
      },
      {
       "output_type": "stream",
       "stream": "stdout",
       "text": [
        " 572.0 ----Stations---- 13\n",
        "-----Leaf----- 358.0 ----Stations---- 10\n",
        "-----Leaf-----"
       ]
      },
      {
       "output_type": "stream",
       "stream": "stdout",
       "text": [
        " 549.0 ----Stations---- 10\n",
        "-----Leaf----- 740.0 ----Stations---- 12\n",
        "-----Leaf-----"
       ]
      },
      {
       "output_type": "stream",
       "stream": "stdout",
       "text": [
        " 1822.0 ----Stations---- 35\n",
        "-----Leaf----- 1352.0 ----Stations---- 40\n",
        "-----Leaf-----"
       ]
      },
      {
       "output_type": "stream",
       "stream": "stdout",
       "text": [
        " 1622.0 ----Stations---- 42\n",
        "-----Leaf----- 1625.0 ----Stations---- 32\n",
        "-----Leaf-----"
       ]
      },
      {
       "output_type": "stream",
       "stream": "stdout",
       "text": [
        " 1747.0 ----Stations---- 43\n",
        "-----Leaf----- 1405.0 ----Stations---- 44\n",
        "-----Leaf-----"
       ]
      },
      {
       "output_type": "stream",
       "stream": "stdout",
       "text": [
        " 681.0 ----Stations---- 15\n",
        "-----Leaf----- 679.0 ----Stations---- 13\n",
        "-----Leaf-----"
       ]
      },
      {
       "output_type": "stream",
       "stream": "stdout",
       "text": [
        " 720.0 ----Stations---- 14\n",
        "-----Leaf----- 593.0 ----Stations---- 12\n",
        "-----Leaf-----"
       ]
      },
      {
       "output_type": "stream",
       "stream": "stdout",
       "text": [
        " 839.0 ----Stations---- 12\n",
        "-----Leaf----- 495.0 ----Stations---- 16\n",
        "-----Leaf-----"
       ]
      },
      {
       "output_type": "stream",
       "stream": "stdout",
       "text": [
        " 665.0 ----Stations---- 12\n",
        "-----Leaf----- 660.0 ----Stations---- 8\n",
        "-----Leaf-----"
       ]
      },
      {
       "output_type": "stream",
       "stream": "stdout",
       "text": [
        " 575.0 ----Stations---- 8\n",
        "-----Leaf----- 532.0 ----Stations---- 14\n",
        "-----Leaf-----"
       ]
      },
      {
       "output_type": "stream",
       "stream": "stdout",
       "text": [
        " 431.0 ----Stations---- 10\n",
        "-----Leaf----- 654.0 ----Stations---- 10\n",
        "-----Leaf-----"
       ]
      },
      {
       "output_type": "stream",
       "stream": "stdout",
       "text": [
        " 686.0 ----Stations---- 9\n",
        "-----Leaf----- 540.0 ----Stations---- 11\n",
        "-----Leaf-----"
       ]
      },
      {
       "output_type": "stream",
       "stream": "stdout",
       "text": [
        " 529.0 ----Stations---- 7\n",
        "-----Leaf----- 445.0 ----Stations---- 11\n",
        "-----Leaf-----"
       ]
      },
      {
       "output_type": "stream",
       "stream": "stdout",
       "text": [
        " 1974.0 ----Stations---- 37\n",
        "-----Leaf----- 1462.0 ----Stations---- 34\n",
        "-----Leaf-----"
       ]
      },
      {
       "output_type": "stream",
       "stream": "stdout",
       "text": [
        " 1971.0 ----Stations---- 37\n",
        "-----Leaf----- 1666.0 ----Stations---- 31\n",
        "-----Leaf-----"
       ]
      },
      {
       "output_type": "stream",
       "stream": "stdout",
       "text": [
        " 1432.0 ----Stations---- 38\n",
        "-----Leaf----- 1662.0 ----Stations---- 37\n",
        "-----Leaf-----"
       ]
      },
      {
       "output_type": "stream",
       "stream": "stdout",
       "text": [
        " 1643.0 ----Stations---- 40\n",
        "-----Leaf----- 1393.0 ----Stations---- 41\n",
        "-----Leaf-----"
       ]
      },
      {
       "output_type": "stream",
       "stream": "stdout",
       "text": [
        " 1169.0 ----Stations---- 37\n",
        "-----Leaf----- 1519.0 ----Stations---- 37\n",
        "-----Leaf-----"
       ]
      },
      {
       "output_type": "stream",
       "stream": "stdout",
       "text": [
        " 426.0 ----Stations---- 12\n",
        "-----Leaf----- 434.0 ----Stations---- 10\n",
        "-----Leaf-----"
       ]
      },
      {
       "output_type": "stream",
       "stream": "stdout",
       "text": [
        " 618.0 ----Stations---- 23\n",
        "-----Leaf----- 555.0 ----Stations---- 12\n",
        "-----Leaf-----"
       ]
      },
      {
       "output_type": "stream",
       "stream": "stdout",
       "text": [
        " 1489.0 ----Stations---- 45\n",
        "-----Leaf-----"
       ]
      },
      {
       "output_type": "stream",
       "stream": "stdout",
       "text": [
        " 1796.0 ----Stations---- 61\n",
        "-----Leaf----- 1343.0 ----Stations---- 45\n",
        "-----Leaf-----"
       ]
      },
      {
       "output_type": "stream",
       "stream": "stdout",
       "text": [
        " 1198.0 ----Stations---- 38\n",
        "-----Leaf----- 1059.0 ----Stations---- 42\n",
        "-----Leaf-----"
       ]
      },
      {
       "output_type": "stream",
       "stream": "stdout",
       "text": [
        " 1706.0 ----Stations---- 49\n",
        "-----Leaf----- 1475.0 ----Stations---- 35\n",
        "-----Leaf-----"
       ]
      },
      {
       "output_type": "stream",
       "stream": "stdout",
       "text": [
        " 812.0 ----Stations---- 30\n",
        "-----Leaf----- 1784.0 ----Stations---- 61\n",
        "-----Leaf-----"
       ]
      },
      {
       "output_type": "stream",
       "stream": "stdout",
       "text": [
        " 760.0 ----Stations---- 17\n",
        "-----Leaf----- 508.0 ----Stations---- 11\n",
        "-----Leaf-----"
       ]
      },
      {
       "output_type": "stream",
       "stream": "stdout",
       "text": [
        " 604.0 ----Stations---- 18\n",
        "-----Leaf----- 613.0 ----Stations---- 28\n",
        "-----Leaf-----"
       ]
      },
      {
       "output_type": "stream",
       "stream": "stdout",
       "text": [
        " 1532.0 ----Stations---- 47\n",
        "-----Leaf-----"
       ]
      },
      {
       "output_type": "stream",
       "stream": "stdout",
       "text": [
        " 500.0 ----Stations---- 18\n",
        "-----Leaf----- 439.0 ----Stations---- 22\n",
        "-----Leaf-----"
       ]
      },
      {
       "output_type": "stream",
       "stream": "stdout",
       "text": [
        " 634.0 ----Stations---- 18\n",
        "-----Leaf----- 792.0 ----Stations---- 31\n",
        "-----Leaf-----"
       ]
      },
      {
       "output_type": "stream",
       "stream": "stdout",
       "text": [
        " 908.0 ----Stations---- 27\n",
        "-----Leaf----- 635.0 ----Stations---- 23\n",
        "-----Leaf-----"
       ]
      },
      {
       "output_type": "stream",
       "stream": "stdout",
       "text": [
        " 661.0 ----Stations---- 23\n",
        "-----Leaf----- 357.0 ----Stations---- 16\n",
        "-----Leaf-----"
       ]
      },
      {
       "output_type": "stream",
       "stream": "stdout",
       "text": [
        " 830.0 ----Stations---- 30\n",
        "-----Leaf----- 1675.0 ----Stations---- 60\n",
        "-----Leaf-----"
       ]
      },
      {
       "output_type": "stream",
       "stream": "stdout",
       "text": [
        " 665.0 ----Stations---- 21\n",
        "-----Leaf----- 870.0 ----Stations---- 21\n",
        "-----Leaf-----"
       ]
      },
      {
       "output_type": "stream",
       "stream": "stdout",
       "text": [
        " 489.0 ----Stations---- 17\n",
        "-----Leaf----- 575.0 ----Stations---- 16\n",
        "-----Leaf-----"
       ]
      },
      {
       "output_type": "stream",
       "stream": "stdout",
       "text": [
        " 643.0 ----Stations---- 13\n",
        "-----Leaf----- 680.0 ----Stations---- 19\n",
        "-----Leaf-----"
       ]
      },
      {
       "output_type": "stream",
       "stream": "stdout",
       "text": [
        " 651.0 ----Stations---- 20\n",
        "-----Leaf----- 1211.0 ----Stations---- 39\n",
        "-----Leaf-----"
       ]
      },
      {
       "output_type": "stream",
       "stream": "stdout",
       "text": [
        " 240.0 ----Stations---- 4\n",
        "-----Leaf----- 475.0 ----Stations---- 14\n",
        "-----Leaf-----"
       ]
      },
      {
       "output_type": "stream",
       "stream": "stdout",
       "text": [
        " 747.0 ----Stations---- 19\n",
        "-----Leaf----- 621.0 ----Stations---- 24\n",
        "-----Leaf-----"
       ]
      },
      {
       "output_type": "stream",
       "stream": "stdout",
       "text": [
        " 1866.0 ----Stations---- 64\n",
        "-----Leaf-----"
       ]
      },
      {
       "output_type": "stream",
       "stream": "stdout",
       "text": [
        " 816.0 ----Stations---- 17\n",
        "-----Leaf----- 599.0 ----Stations---- 23\n",
        "-----Leaf-----"
       ]
      },
      {
       "output_type": "stream",
       "stream": "stdout",
       "text": [
        " 1141.0 ----Stations---- 42\n",
        "-----Leaf----- 672.0 ----Stations---- 20\n",
        "-----Leaf-----"
       ]
      },
      {
       "output_type": "stream",
       "stream": "stdout",
       "text": [
        " 843.0 ----Stations---- 39\n",
        "-----Leaf----- 781.0 ----Stations---- 23\n",
        "-----Leaf-----"
       ]
      },
      {
       "output_type": "stream",
       "stream": "stdout",
       "text": [
        " 364.0 ----Stations---- 12\n",
        "-----Leaf----- 349.0 ----Stations---- 11\n",
        "-----Leaf-----"
       ]
      },
      {
       "output_type": "stream",
       "stream": "stdout",
       "text": [
        " 337.0 ----Stations---- 13\n",
        "-----Leaf----- 246.0 ----Stations---- 9\n",
        "-----Leaf-----"
       ]
      },
      {
       "output_type": "stream",
       "stream": "stdout",
       "text": [
        " 1042.0 ----Stations---- 37\n",
        "-----Leaf----- 512.0 ----Stations---- 18\n",
        "-----Leaf-----"
       ]
      },
      {
       "output_type": "stream",
       "stream": "stdout",
       "text": [
        " 454.0 ----Stations---- 11\n",
        "-----Leaf----- 586.0 ----Stations---- 16\n",
        "-----Leaf-----"
       ]
      },
      {
       "output_type": "stream",
       "stream": "stdout",
       "text": [
        " 446.0 ----Stations---- 28\n",
        "-----Leaf----- 1613.0 ----Stations---- 51\n",
        "-----Leaf-----"
       ]
      },
      {
       "output_type": "stream",
       "stream": "stdout",
       "text": [
        " 540.0 ----Stations---- 21\n",
        "-----Leaf----- 683.0 ----Stations---- 23\n",
        "-----Leaf-----"
       ]
      },
      {
       "output_type": "stream",
       "stream": "stdout",
       "text": [
        " 391.0 ----Stations---- 11\n",
        "-----Leaf----- 398.0 ----Stations---- 17\n",
        "-----Leaf-----"
       ]
      },
      {
       "output_type": "stream",
       "stream": "stdout",
       "text": [
        " 725.0 ----Stations---- 18\n",
        "-----Leaf----- 979.0 ----Stations---- 35\n",
        "-----Leaf-----"
       ]
      },
      {
       "output_type": "stream",
       "stream": "stdout",
       "text": [
        " 681.0 ----Stations---- 26\n",
        "-----Leaf----- 692.0 ----Stations---- 18\n",
        "-----Leaf-----"
       ]
      },
      {
       "output_type": "stream",
       "stream": "stdout",
       "text": [
        " 1774.0 ----Stations---- 54\n",
        "-----Leaf----- 1757.0 ----Stations---- 61\n",
        "-----Leaf-----"
       ]
      },
      {
       "output_type": "stream",
       "stream": "stdout",
       "text": [
        " 566.0 ----Stations---- 32\n",
        "-----Leaf----- 653.0 ----Stations---- 28\n",
        "-----Leaf-----"
       ]
      },
      {
       "output_type": "stream",
       "stream": "stdout",
       "text": [
        " 1084.0 ----Stations---- 39\n",
        "-----Leaf----- 548.0 ----Stations---- 15\n",
        "-----Leaf-----"
       ]
      },
      {
       "output_type": "stream",
       "stream": "stdout",
       "text": [
        " 226.0 ----Stations---- 8\n",
        "-----Leaf----- 413.0 ----Stations---- 16\n",
        "-----Leaf-----"
       ]
      },
      {
       "output_type": "stream",
       "stream": "stdout",
       "text": [
        " 1357.0 ----Stations---- 42\n",
        "-----Leaf-----"
       ]
      },
      {
       "output_type": "stream",
       "stream": "stdout",
       "text": [
        " 196.0 ----Stations---- 7\n",
        "-----Leaf----- 670.0 ----Stations---- 23\n",
        "-----Leaf-----"
       ]
      },
      {
       "output_type": "stream",
       "stream": "stdout",
       "text": [
        " 1073.0 ----Stations---- 24\n",
        "-----Leaf----- 937.0 ----Stations---- 32\n",
        "-----Leaf-----"
       ]
      },
      {
       "output_type": "stream",
       "stream": "stdout",
       "text": [
        " 1340.0 ----Stations---- 56\n",
        "-----Leaf----- 1574.0 ----Stations---- 43\n",
        "-----Leaf-----"
       ]
      },
      {
       "output_type": "stream",
       "stream": "stdout",
       "text": [
        " 1454.0 ----Stations---- 55\n",
        "-----Leaf----- 1359.0 ----Stations---- 50\n",
        "-----Leaf-----"
       ]
      },
      {
       "output_type": "stream",
       "stream": "stdout",
       "text": [
        " 1379.0 ----Stations---- 31\n",
        "-----Leaf----- 1571.0 ----Stations---- 31\n",
        "-----Leaf-----"
       ]
      },
      {
       "output_type": "stream",
       "stream": "stdout",
       "text": [
        " 314.0 ----Stations---- 6\n",
        "-----Leaf----- 688.0 ----Stations---- 14\n",
        "-----Leaf-----"
       ]
      },
      {
       "output_type": "stream",
       "stream": "stdout",
       "text": [
        " 352.0 ----Stations---- 5\n",
        "-----Leaf----- 689.0 ----Stations---- 9\n",
        "-----Leaf-----"
       ]
      },
      {
       "output_type": "stream",
       "stream": "stdout",
       "text": [
        " 1266.0 ----Stations---- 32\n",
        "-----Leaf-----"
       ]
      },
      {
       "output_type": "stream",
       "stream": "stdout",
       "text": [
        " 1323.0 ----Stations---- 34\n",
        "-----Leaf----- 1145.0 ----Stations---- 33\n",
        "-----Leaf-----"
       ]
      },
      {
       "output_type": "stream",
       "stream": "stdout",
       "text": [
        " 1339.0 ----Stations---- 39\n",
        "-----Leaf----- 1603.0 ----Stations---- 45\n",
        "-----Leaf-----"
       ]
      },
      {
       "output_type": "stream",
       "stream": "stdout",
       "text": [
        " 1893.0 ----Stations---- 69\n",
        "-----Leaf-----"
       ]
      },
      {
       "output_type": "stream",
       "stream": "stdout",
       "text": [
        " 366.0 ----Stations---- 11\n",
        "-----Leaf----- 495.0 ----Stations---- 23\n",
        "-----Leaf-----"
       ]
      },
      {
       "output_type": "stream",
       "stream": "stdout",
       "text": [
        " 653.0 ----Stations---- 19\n",
        "-----Leaf----- 623.0 ----Stations---- 20\n",
        "-----Leaf-----"
       ]
      },
      {
       "output_type": "stream",
       "stream": "stdout",
       "text": [
        " 1686.0 ----Stations---- 49\n",
        "-----Leaf-----"
       ]
      },
      {
       "output_type": "stream",
       "stream": "stdout",
       "text": [
        " 513.0 ----Stations---- 15\n",
        "-----Leaf----- 438.0 ----Stations---- 20\n",
        "-----Leaf-----"
       ]
      },
      {
       "output_type": "stream",
       "stream": "stdout",
       "text": [
        " 634.0 ----Stations---- 15\n",
        "-----Leaf----- 519.0 ----Stations---- 21\n",
        "-----Leaf-----"
       ]
      },
      {
       "output_type": "stream",
       "stream": "stdout",
       "text": [
        " 1013.0 ----Stations---- 29\n",
        "-----Leaf----- 509.0 ----Stations---- 13\n",
        "-----Leaf-----"
       ]
      },
      {
       "output_type": "stream",
       "stream": "stdout",
       "text": [
        " 740.0 ----Stations---- 17\n",
        "-----Leaf----- 667.0 ----Stations---- 17\n",
        "-----Leaf-----"
       ]
      },
      {
       "output_type": "stream",
       "stream": "stdout",
       "text": [
        " 482.0 ----Stations---- 16\n",
        "-----Leaf-----"
       ]
      },
      {
       "output_type": "stream",
       "stream": "stdout",
       "text": [
        " 922.0 ----Stations---- 41\n",
        "-----Leaf-----"
       ]
      },
      {
       "output_type": "stream",
       "stream": "stdout",
       "text": [
        " 680.0 ----Stations---- 16\n",
        "-----Leaf----- 716.0 ----Stations---- 26\n",
        "-----Leaf-----"
       ]
      },
      {
       "output_type": "stream",
       "stream": "stdout",
       "text": [
        " 499.0 ----Stations---- 17\n",
        "-----Leaf----- 273.0 ----Stations---- 16\n",
        "-----Leaf-----"
       ]
      },
      {
       "output_type": "stream",
       "stream": "stdout",
       "text": [
        " 522.0 ----Stations---- 24\n",
        "-----Leaf----- 1037.0 ----Stations---- 40\n",
        "-----Leaf-----"
       ]
      },
      {
       "output_type": "stream",
       "stream": "stdout",
       "text": [
        " 1096.0 ----Stations---- 40\n",
        "-----Leaf----- 935.0 ----Stations---- 51\n",
        "-----Leaf-----"
       ]
      },
      {
       "output_type": "stream",
       "stream": "stdout",
       "text": [
        " 1314.0 ----Stations---- 56\n",
        "-----Leaf----- 907.0 ----Stations---- 35\n",
        "-----Leaf-----"
       ]
      },
      {
       "output_type": "stream",
       "stream": "stdout",
       "text": [
        " 1003.0 ----Stations---- 38\n",
        "-----Leaf----- 904.0 ----Stations---- 27\n",
        "-----Leaf-----"
       ]
      },
      {
       "output_type": "stream",
       "stream": "stdout",
       "text": [
        " 1347.0 ----Stations---- 43\n",
        "-----Leaf-----"
       ]
      },
      {
       "output_type": "stream",
       "stream": "stdout",
       "text": [
        " 793.0 ----Stations---- 37\n",
        "-----Leaf----- 1410.0 ----Stations---- 57\n",
        "-----Leaf-----"
       ]
      },
      {
       "output_type": "stream",
       "stream": "stdout",
       "text": [
        " 1820.0 ----Stations---- 50\n",
        "-----Leaf----- 925.0 ----Stations---- 26\n",
        "-----Leaf-----"
       ]
      },
      {
       "output_type": "stream",
       "stream": "stdout",
       "text": [
        " 1987.0 ----Stations---- 57\n",
        "-----Leaf----- 1108.0 ----Stations---- 41\n",
        "-----Leaf-----"
       ]
      },
      {
       "output_type": "stream",
       "stream": "stdout",
       "text": [
        " 834.0 ----Stations---- 20\n",
        "-----Leaf----- 798.0 ----Stations---- 32\n",
        "-----Leaf-----"
       ]
      },
      {
       "output_type": "stream",
       "stream": "stdout",
       "text": [
        " 574.0 ----Stations---- 16\n",
        "-----Leaf----- 570.0 ----Stations---- 15\n",
        "-----Leaf-----"
       ]
      },
      {
       "output_type": "stream",
       "stream": "stdout",
       "text": [
        " 381.0 ----Stations---- 10\n",
        "-----Leaf----- 580.0 ----Stations---- 14\n",
        "-----Leaf-----"
       ]
      },
      {
       "output_type": "stream",
       "stream": "stdout",
       "text": [
        " 542.0 ----Stations---- 16\n",
        "-----Leaf----- 500.0 ----Stations---- 14\n",
        "-----Leaf-----"
       ]
      },
      {
       "output_type": "stream",
       "stream": "stdout",
       "text": [
        " 275.0 ----Stations---- 12\n",
        "-----Leaf----- 330.0 ----Stations---- 15\n",
        "-----Leaf-----"
       ]
      },
      {
       "output_type": "stream",
       "stream": "stdout",
       "text": [
        " 1185.0 ----Stations---- 27\n",
        "-----Leaf----- 311.0 ----Stations---- 9\n",
        "-----Leaf-----"
       ]
      },
      {
       "output_type": "stream",
       "stream": "stdout",
       "text": [
        " 1840.0 ----Stations---- 60\n",
        "-----Leaf-----"
       ]
      },
      {
       "output_type": "stream",
       "stream": "stdout",
       "text": [
        " 765.0 ----Stations---- 18\n",
        "-----Leaf----- 615.0 ----Stations---- 26\n",
        "-----Leaf-----"
       ]
      },
      {
       "output_type": "stream",
       "stream": "stdout",
       "text": [
        " 735.0 ----Stations---- 20\n",
        "-----Leaf----- 865.0 ----Stations---- 26\n",
        "-----Leaf-----"
       ]
      },
      {
       "output_type": "stream",
       "stream": "stdout",
       "text": [
        " 1187.0 ----Stations---- 55\n",
        "-----Leaf-----"
       ]
      },
      {
       "output_type": "stream",
       "stream": "stdout",
       "text": [
        " 1727.0 ----Stations---- 66\n",
        "-----Leaf-----"
       ]
      },
      {
       "output_type": "stream",
       "stream": "stdout",
       "text": [
        " 681.0 ----Stations---- 19\n",
        "-----Leaf----- 531.0 ----Stations---- 17\n",
        "-----Leaf-----"
       ]
      },
      {
       "output_type": "stream",
       "stream": "stdout",
       "text": [
        " 509.0 ----Stations---- 15\n",
        "-----Leaf----- 607.0 ----Stations---- 20\n",
        "-----Leaf-----"
       ]
      },
      {
       "output_type": "stream",
       "stream": "stdout",
       "text": [
        " 299.0 ----Stations---- 15\n",
        "-----Leaf----- 487.0 ----Stations---- 18\n",
        "-----Leaf-----"
       ]
      },
      {
       "output_type": "stream",
       "stream": "stdout",
       "text": [
        " 675.0 ----Stations---- 20\n",
        "-----Leaf----- 768.0 ----Stations---- 25\n",
        "-----Leaf-----"
       ]
      },
      {
       "output_type": "stream",
       "stream": "stdout",
       "text": [
        " 1592.0 ----Stations---- 63\n",
        "-----Leaf-----"
       ]
      },
      {
       "output_type": "stream",
       "stream": "stdout",
       "text": [
        " 561.0 ----Stations---- 15\n",
        "-----Leaf----- 723.0 ----Stations---- 23\n",
        "-----Leaf-----"
       ]
      },
      {
       "output_type": "stream",
       "stream": "stdout",
       "text": [
        " 705.0 ----Stations---- 26\n",
        "-----Leaf----- 684.0 ----Stations---- 22\n",
        "-----Leaf-----"
       ]
      },
      {
       "output_type": "stream",
       "stream": "stdout",
       "text": [
        " 413.0 ----Stations---- 16\n",
        "-----Leaf----- 742.0 ----Stations---- 18\n",
        "-----Leaf-----"
       ]
      },
      {
       "output_type": "stream",
       "stream": "stdout",
       "text": [
        " 608.0 ----Stations---- 12\n",
        "-----Leaf----- 652.0 ----Stations---- 18\n",
        "-----Leaf-----"
       ]
      },
      {
       "output_type": "stream",
       "stream": "stdout",
       "text": [
        " 788.0 ----Stations---- 19\n",
        "-----Leaf----- 487.0 ----Stations---- 17\n",
        "-----Leaf-----"
       ]
      },
      {
       "output_type": "stream",
       "stream": "stdout",
       "text": [
        " 754.0 ----Stations---- 17\n",
        "-----Leaf----- 719.0 ----Stations---- 24\n",
        "-----Leaf-----"
       ]
      },
      {
       "output_type": "stream",
       "stream": "stdout",
       "text": [
        " 432.0 ----Stations---- 19\n",
        "-----Leaf----- 568.0 ----Stations---- 16\n",
        "-----Leaf-----"
       ]
      },
      {
       "output_type": "stream",
       "stream": "stdout",
       "text": [
        " 1030.0 ----Stations---- 24\n",
        "-----Leaf----- 760.0 ----Stations---- 23\n",
        "-----Leaf-----"
       ]
      },
      {
       "output_type": "stream",
       "stream": "stdout",
       "text": [
        " 1038.0 ----Stations---- 41\n",
        "-----Leaf-----"
       ]
      },
      {
       "output_type": "stream",
       "stream": "stdout",
       "text": [
        " 301.0 ----Stations---- 7\n",
        "-----Leaf----- 1031.0 ----Stations---- 18\n",
        "-----Leaf-----"
       ]
      },
      {
       "output_type": "stream",
       "stream": "stdout",
       "text": [
        " 529.0 ----Stations---- 19\n",
        "-----Leaf----- 405.0 ----Stations---- 17\n",
        "-----Leaf-----"
       ]
      },
      {
       "output_type": "stream",
       "stream": "stdout",
       "text": [
        " 1351.0 ----Stations---- 54\n",
        "-----Leaf----- 1571.0 ----Stations---- 50\n",
        "-----Leaf-----"
       ]
      },
      {
       "output_type": "stream",
       "stream": "stdout",
       "text": [
        " 557.0 ----Stations---- 18\n",
        "-----Leaf----- 643.0 ----Stations---- 27\n",
        "-----Leaf-----"
       ]
      },
      {
       "output_type": "stream",
       "stream": "stdout",
       "text": [
        " 1283.0 ----Stations---- 43\n",
        "-----Leaf----- 628.0 ----Stations---- 18\n",
        "-----Leaf-----"
       ]
      },
      {
       "output_type": "stream",
       "stream": "stdout",
       "text": [
        " 584.0 ----Stations---- 26\n",
        "-----Leaf----- 711.0 ----Stations---- 25\n",
        "-----Leaf-----"
       ]
      },
      {
       "output_type": "stream",
       "stream": "stdout",
       "text": [
        " 924.0 ----Stations---- 22\n",
        "-----Leaf----- 500.0 ----Stations---- 17\n",
        "-----Leaf-----"
       ]
      },
      {
       "output_type": "stream",
       "stream": "stdout",
       "text": [
        " 1026.0 ----Stations---- 43\n",
        "-----Leaf----- 1093.0 ----Stations---- 32\n",
        "-----Leaf-----"
       ]
      },
      {
       "output_type": "stream",
       "stream": "stdout",
       "text": [
        " 779.0 ----Stations---- 31\n",
        "-----Leaf----- 1384.0 ----Stations---- 43\n",
        "-----Leaf-----"
       ]
      },
      {
       "output_type": "stream",
       "stream": "stdout",
       "text": [
        " 1376.0 ----Stations---- 38\n",
        "-----Leaf----- 1092.0 ----Stations---- 30\n",
        "-----Leaf-----"
       ]
      },
      {
       "output_type": "stream",
       "stream": "stdout",
       "text": [
        " 645.0 ----Stations---- 22\n",
        "-----Leaf----- 1769.0 ----Stations---- 51\n",
        "-----Leaf-----"
       ]
      },
      {
       "output_type": "stream",
       "stream": "stdout",
       "text": [
        " 848.0 ----Stations---- 24\n",
        "-----Leaf----- 411.0 ----Stations---- 19\n",
        "-----Leaf-----"
       ]
      },
      {
       "output_type": "stream",
       "stream": "stdout",
       "text": [
        " 965.0 ----Stations---- 30\n",
        "-----Leaf----- 750.0 ----Stations---- 26\n",
        "-----Leaf-----"
       ]
      },
      {
       "output_type": "stream",
       "stream": "stdout",
       "text": [
        " 138.0 ----Stations---- 8\n",
        "-----Leaf-----"
       ]
      },
      {
       "output_type": "stream",
       "stream": "stdout",
       "text": [
        " 1174.0 ----Stations---- 37\n",
        "-----Leaf-----"
       ]
      },
      {
       "output_type": "stream",
       "stream": "stdout",
       "text": [
        " 199.0 ----Stations---- 5\n",
        "-----Leaf----- 457.0 ----Stations---- 10\n",
        "-----Leaf-----"
       ]
      },
      {
       "output_type": "stream",
       "stream": "stdout",
       "text": [
        " 692.0 ----Stations---- 23\n",
        "-----Leaf----- 797.0 ----Stations---- 21\n",
        "-----Leaf-----"
       ]
      },
      {
       "output_type": "stream",
       "stream": "stdout",
       "text": [
        " 685.0 ----Stations---- 18\n",
        "-----Leaf----- 53.0 ----Stations---- 1\n",
        "-----Leaf-----"
       ]
      },
      {
       "output_type": "stream",
       "stream": "stdout",
       "text": [
        " 1184.0 ----Stations---- 32\n",
        "-----Leaf----- 681.0 ----Stations---- 22\n",
        "-----Leaf-----"
       ]
      },
      {
       "output_type": "stream",
       "stream": "stdout",
       "text": [
        " 882.0 ----Stations---- 24\n",
        "-----Leaf----- 994.0 ----Stations---- 22\n",
        "-----Leaf-----"
       ]
      },
      {
       "output_type": "stream",
       "stream": "stdout",
       "text": [
        " 859.0 ----Stations---- 21\n",
        "-----Leaf----- 442.0 ----Stations---- 14\n",
        "-----Leaf-----"
       ]
      },
      {
       "output_type": "stream",
       "stream": "stdout",
       "text": [
        " 697.0 ----Stations---- 26\n",
        "-----Leaf----- 291.0 ----Stations---- 15\n",
        "-----Leaf-----"
       ]
      },
      {
       "output_type": "stream",
       "stream": "stdout",
       "text": [
        " 641.0 ----Stations---- 29\n",
        "-----Leaf----- 164.0 ----Stations---- 5\n",
        "-----Leaf-----"
       ]
      },
      {
       "output_type": "stream",
       "stream": "stdout",
       "text": [
        " 21.0 ----Stations---- 1\n",
        "-----Leaf----- 549.0 ----Stations---- 17\n",
        "-----Leaf-----"
       ]
      },
      {
       "output_type": "stream",
       "stream": "stdout",
       "text": [
        " 1450.0 ----Stations---- 44\n",
        "-----Leaf----- 1401.0 ----Stations---- 39\n",
        "-----Leaf-----"
       ]
      },
      {
       "output_type": "stream",
       "stream": "stdout",
       "text": [
        " 405.0 ----Stations---- 9\n",
        "-----Leaf-----"
       ]
      },
      {
       "output_type": "stream",
       "stream": "stdout",
       "text": [
        " 550.0 ----Stations---- 21\n",
        "-----Leaf----- 426.0 ----Stations---- 15\n",
        "-----Leaf-----"
       ]
      },
      {
       "output_type": "stream",
       "stream": "stdout",
       "text": [
        " 527.0 ----Stations---- 13\n",
        "-----Leaf----- 615.0 ----Stations---- 15\n",
        "-----Leaf-----"
       ]
      },
      {
       "output_type": "stream",
       "stream": "stdout",
       "text": [
        " 1678.0 ----Stations---- 46\n",
        "-----Leaf----- 1857.0 ----Stations---- 45\n",
        "-----Leaf-----"
       ]
      },
      {
       "output_type": "stream",
       "stream": "stdout",
       "text": [
        " 313.0 ----Stations---- 11\n",
        "-----Leaf----- 727.0 ----Stations---- 19\n",
        "-----Leaf-----"
       ]
      },
      {
       "output_type": "stream",
       "stream": "stdout",
       "text": [
        " 622.0 ----Stations---- 11\n",
        "-----Leaf----- 537.0 ----Stations---- 19\n",
        "-----Leaf-----"
       ]
      },
      {
       "output_type": "stream",
       "stream": "stdout",
       "text": [
        " 341.0 ----Stations---- 15\n",
        "-----Leaf----- 557.0 ----Stations---- 13\n",
        "-----Leaf-----"
       ]
      },
      {
       "output_type": "stream",
       "stream": "stdout",
       "text": [
        " 876.0 ----Stations---- 30\n",
        "-----Leaf----- 639.0 ----Stations---- 11\n",
        "-----Leaf-----"
       ]
      },
      {
       "output_type": "stream",
       "stream": "stdout",
       "text": [
        " 377.0 ----Stations---- 8\n",
        "-----Leaf----- 415.0 ----Stations---- 12\n",
        "-----Leaf-----"
       ]
      },
      {
       "output_type": "stream",
       "stream": "stdout",
       "text": [
        " 386.0 ----Stations---- 20\n",
        "-----Leaf----- 871.0 ----Stations---- 17\n",
        "-----Leaf-----"
       ]
      },
      {
       "output_type": "stream",
       "stream": "stdout",
       "text": [
        " 344.0 ----Stations---- 11\n",
        "-----Leaf----- 499.0 ----Stations---- 14\n",
        "-----Leaf-----"
       ]
      },
      {
       "output_type": "stream",
       "stream": "stdout",
       "text": [
        " 1049.0 ----Stations---- 25\n",
        "-----Leaf----- 399.0 ----Stations---- 8\n",
        "-----Leaf-----"
       ]
      },
      {
       "output_type": "stream",
       "stream": "stdout",
       "text": [
        " 1878.0 ----Stations---- 55\n",
        "-----Leaf-----"
       ]
      },
      {
       "output_type": "stream",
       "stream": "stdout",
       "text": [
        " 1138.0 ----Stations---- 35\n",
        "-----Leaf----- 1415.0 ----Stations---- 31\n",
        "-----Leaf-----"
       ]
      },
      {
       "output_type": "stream",
       "stream": "stdout",
       "text": [
        " 1633.0 ----Stations---- 47\n",
        "-----Leaf----- 1102.0 ----Stations---- 25\n",
        "-----Leaf-----"
       ]
      },
      {
       "output_type": "stream",
       "stream": "stdout",
       "text": [
        " 1004.0 ----Stations---- 34\n",
        "-----Leaf----- 1310.0 ----Stations---- 36\n",
        "-----Leaf-----"
       ]
      },
      {
       "output_type": "stream",
       "stream": "stdout",
       "text": [
        " 920.0 ----Stations---- 24\n",
        "-----Leaf----- 516.0 ----Stations---- 24\n",
        "-----Leaf-----"
       ]
      },
      {
       "output_type": "stream",
       "stream": "stdout",
       "text": [
        " 1082.0 ----Stations---- 35\n",
        "-----Leaf-----"
       ]
      },
      {
       "output_type": "stream",
       "stream": "stdout",
       "text": [
        " 1606.0 ----Stations---- 52\n",
        "-----Leaf----- 1167.0 ----Stations---- 40\n",
        "-----Leaf-----"
       ]
      },
      {
       "output_type": "stream",
       "stream": "stdout",
       "text": [
        " 1233.0 ----Stations---- 35\n",
        "-----Leaf----- 1825.0 ----Stations---- 43\n",
        "-----Leaf-----"
       ]
      },
      {
       "output_type": "stream",
       "stream": "stdout",
       "text": [
        " 467.0 ----Stations---- 15\n",
        "-----Leaf----- 580.0 ----Stations---- 15\n",
        "-----Leaf-----"
       ]
      },
      {
       "output_type": "stream",
       "stream": "stdout",
       "text": [
        " 431.0 ----Stations---- 17\n",
        "-----Leaf----- 699.0 ----Stations---- 18\n",
        "-----Leaf-----"
       ]
      },
      {
       "output_type": "stream",
       "stream": "stdout",
       "text": [
        " 1849.0 ----Stations---- 61\n",
        "-----Leaf-----"
       ]
      },
      {
       "output_type": "stream",
       "stream": "stdout",
       "text": [
        " 411.0 ----Stations---- 13\n",
        "-----Leaf----- 502.0 ----Stations---- 18\n",
        "-----Leaf-----"
       ]
      },
      {
       "output_type": "stream",
       "stream": "stdout",
       "text": [
        " 1198.0 ----Stations---- 29\n",
        "-----Leaf----- 985.0 ----Stations---- 35\n",
        "-----Leaf-----"
       ]
      },
      {
       "output_type": "stream",
       "stream": "stdout",
       "text": [
        " 907.0 ----Stations---- 37\n",
        "-----Leaf----- 632.0 ----Stations---- 16\n",
        "-----Leaf-----"
       ]
      },
      {
       "output_type": "stream",
       "stream": "stdout",
       "text": [
        " 1146.0 ----Stations---- 30\n",
        "-----Leaf----- 194.0 ----Stations---- 9\n",
        "-----Leaf-----"
       ]
      },
      {
       "output_type": "stream",
       "stream": "stdout",
       "text": [
        " 1263.0 ----Stations---- 42\n",
        "-----Leaf-----"
       ]
      },
      {
       "output_type": "stream",
       "stream": "stdout",
       "text": [
        " 1063.0 ----Stations---- 29\n",
        "-----Leaf----- 1452.0 ----Stations---- 40\n",
        "-----Leaf-----"
       ]
      },
      {
       "output_type": "stream",
       "stream": "stdout",
       "text": [
        " 1143.0 ----Stations---- 36\n",
        "-----Leaf----- 1429.0 ----Stations---- 50\n",
        "-----Leaf-----"
       ]
      },
      {
       "output_type": "stream",
       "stream": "stdout",
       "text": [
        " 1359.0 ----Stations---- 41\n",
        "-----Leaf-----"
       ]
      },
      {
       "output_type": "stream",
       "stream": "stdout",
       "text": [
        " 361.0 ----Stations---- 13\n",
        "-----Leaf----- 693.0 ----Stations---- 15\n",
        "-----Leaf-----"
       ]
      },
      {
       "output_type": "stream",
       "stream": "stdout",
       "text": [
        " 667.0 ----Stations---- 22\n",
        "-----Leaf----- 535.0 ----Stations---- 13\n",
        "-----Leaf-----"
       ]
      },
      {
       "output_type": "stream",
       "stream": "stdout",
       "text": [
        " 786.0 ----Stations---- 33\n",
        "-----Leaf----- 927.0 ----Stations---- 42\n",
        "-----Leaf-----"
       ]
      },
      {
       "output_type": "stream",
       "stream": "stdout",
       "text": [
        " 1298.0 ----Stations---- 41\n",
        "-----Leaf----- 1226.0 ----Stations---- 40\n",
        "-----Leaf-----"
       ]
      },
      {
       "output_type": "stream",
       "stream": "stdout",
       "text": [
        " 42.0 ----Stations---- 1\n"
       ]
      },
      {
       "output_type": "stream",
       "stream": "stderr",
       "text": [
        "/home/ubuntu/anaconda/lib/python2.7/site-packages/pandas/core/indexing.py:346: SettingWithCopyWarning: A value is trying to be set on a copy of a slice from a DataFrame.\n",
        "Try using .loc[row_index,col_indexer] = value instead\n",
        "  self.obj[item] = s\n"
       ]
      }
     ],
     "prompt_number": 6
    },
    {
     "cell_type": "code",
     "collapsed": false,
     "input": [
      "import pickle\n",
      "f = gzip.open('weighted_ML_station.pklz', 'rb' )\n",
      "pickleFile = pickle.Unpickler(f)\n",
      "stations = pickleFile.load()[['station','label']]\n",
      "station_hash = {}\n",
      "print np.shape(stations)[0]\n",
      "for i in range(np.shape(stations)[0]):\n",
      "    station_hash[stations.iloc[i]['station']] = stations.iloc[i]['label']\n",
      "f = gzip.open('ML_station_hash.pkl.gz','wb')\n",
      "pickle.dump(station_hash, f)\n",
      "f.close()"
     ],
     "language": "python",
     "metadata": {},
     "outputs": [
      {
       "output_type": "stream",
       "stream": "stdout",
       "text": [
        "16467\n"
       ]
      }
     ],
     "prompt_number": 5
    },
    {
     "cell_type": "code",
     "collapsed": false,
     "input": [
      "testhash = {}\n",
      "testhash[stations.iloc[1]['station']] = stations.iloc[1]['label']\n",
      "testhash"
     ],
     "language": "python",
     "metadata": {},
     "outputs": [
      {
       "metadata": {},
       "output_type": "pyout",
       "prompt_number": 6,
       "text": [
        "{'USC00010148': 28.0}"
       ]
      }
     ],
     "prompt_number": 6
    },
    {
     "cell_type": "code",
     "collapsed": false,
     "input": [
      "%%writefile split_ML.py\n",
      "#!/usr/bin/python\n",
      "import sys\n",
      "sys.path.append('/usr/lib/python2.6/dist-packages')\n",
      "import re,pickle,base64,zlib\n",
      "from mrjob.job import MRJob\n",
      "from sys import stderr\n",
      "import pandas as pd\n",
      "import numpy as np\n",
      "import sklearn as sk\n",
      "import gzip\n",
      "import pickle\n",
      "\n",
      "f = gzip.open('ML_station_hash.pkl.gz', 'rb' )\n",
      "pickleFile = pickle.Unpickler(f)\n",
      "hashtable = pickleFile.load()\n",
      "f.close()\n",
      "\n",
      "class split_weather(MRJob): \n",
      "    \n",
      "    def mapper_pre(self, _, line):\n",
      "        global hashtable\n",
      "        elements = line.split(',')\n",
      "        if elements[1] == 'TMAX' or elements[1] == 'TMIN':\n",
      "            region = hashtable.get(elements[0])\n",
      "            if region != None:\n",
      "                yield (elements[0], elements[2], region), (elements[1], elements[3:])\n",
      "                \n",
      "    def reducer_pre(self, station_pair, weathers):\n",
      "        weather_max = []\n",
      "        weather_min = []\n",
      "        valid_count = 0\n",
      "        data_count = 0\n",
      "        for weather in weathers:\n",
      "            if weather[0] == 'TMAX': weather_max = weather[1]\n",
      "            if weather[0] == 'TMIN': weather_min = weather[1]\n",
      "            data_count += 1\n",
      "        if data_count == 2 and len(weather_max) == 365 and len(weather_min) == 365:\n",
      "            for i in range(365):\n",
      "                if weather_max[i] != '' and weather_min[i] != '':\n",
      "                    valid_count += 1\n",
      "            if valid_count >= 180:\n",
      "                weather_data = weather_max + weather_min\n",
      "                yield station_pair[2], weather_data\n",
      "            \n",
      "    def reducer_split(self, region, matrixs):\n",
      "        for matrix in matrixs:\n",
      "            yield (region, matrix)\n",
      "           \n",
      "    def steps(self):\n",
      "        return [self.mr(mapper = self.mapper_pre, reducer=self.reducer_pre),\n",
      "                self.mr(reducer = self.reducer_split)]\n",
      "        \n",
      "if __name__ == '__main__':\n",
      "    split_weather.run()"
     ],
     "language": "python",
     "metadata": {},
     "outputs": [
      {
       "output_type": "stream",
       "stream": "stdout",
       "text": [
        "Overwriting split_ML.py\n"
       ]
      }
     ],
     "prompt_number": 10
    },
    {
     "cell_type": "code",
     "collapsed": false,
     "input": [
      "job_flow_id = create_job_flow()\n",
      "!python split_ML.py -r emr --emr-job-flow-id $job_flow_id --file ./ML_station_hash.pkl.gz hdfs:/weather.raw_data/ALL.csv > tmp_split.txt"
     ],
     "language": "python",
     "metadata": {},
     "outputs": [
      {
       "output_type": "stream",
       "stream": "stdout",
       "text": [
        "<boto.emr.emrobject.JobFlow object at 0x24c71d0> no_script.yoavfreund.20140610.012426.319987 j-QEERH05KMYTO WAITING\n",
        "<boto.emr.emrobject.JobFlow object at 0x4b0a210> no_script.yoavfreund.20140610.012507.678804 j-NIGXU2E6YEU3 WAITING\n",
        "<boto.emr.emrobject.JobFlow object at 0x4bc3610> no_script.yoavfreund.20140610.012515.693483 j-3SOQM885E1GLH WAITING\n",
        "<boto.emr.emrobject.JobFlow object at 0x52af8d0> no_script.yoavfreund.20140610.012523.713192 j-34Q4HR41T9BWU WAITING\n",
        "<boto.emr.emrobject.JobFlow object at 0x57cf090> no_script.yoavfreund.20140610.012531.672863 j-31PKW9W4C2YQK WAITING\n",
        "<boto.emr.emrobject.JobFlow object at 0x58daa50> no_script.yoavfreund.20140611.181703.600873 j-2N4U1USC54EM6 WAITING\n",
        "<boto.emr.emrobject.JobFlow object at 0x4daca90> no_script.yoavfreund.20140611.181722.314318 j-3MR2RR5OEXRQ7 WAITING\n",
        "<boto.emr.emrobject.JobFlow object at 0x4d61390> no_script.yoavfreund.20140611.181730.511103 j-2S5LTMBIWD2WB WAITING\n"
       ]
      },
      {
       "output_type": "stream",
       "stream": "stdout",
       "text": [
        "using configs in /home/ubuntu/.mrjob.conf\r\n"
       ]
      },
      {
       "output_type": "stream",
       "stream": "stdout",
       "text": [
        "creating tmp directory /tmp/split_ML.ubuntu.20140612.033019.972292\r\n"
       ]
      },
      {
       "output_type": "stream",
       "stream": "stdout",
       "text": [
        "Copying non-input files into s3://yoav.hadoop/scratch/split_ML.ubuntu.20140612.033019.972292/files/\r\n"
       ]
      },
      {
       "output_type": "stream",
       "stream": "stdout",
       "text": [
        "Adding our job to existing job flow j-2S5LTMBIWD2WB\r\n"
       ]
      },
      {
       "output_type": "stream",
       "stream": "stdout",
       "text": [
        "Job launched 30.3s ago, status RUNNING: Running step (split_ML.ubuntu.20140612.033019.972292: Step 1 of 2)\r\n"
       ]
      },
      {
       "output_type": "stream",
       "stream": "stdout",
       "text": [
        "Job launched 60.5s ago, status RUNNING: Running step (split_ML.ubuntu.20140612.033019.972292: Step 1 of 2)\r\n"
       ]
      },
      {
       "output_type": "stream",
       "stream": "stdout",
       "text": [
        "Job launched 90.8s ago, status RUNNING: Running step (split_ML.ubuntu.20140612.033019.972292: Step 1 of 2)\r\n"
       ]
      },
      {
       "output_type": "stream",
       "stream": "stdout",
       "text": [
        "Job launched 121.1s ago, status RUNNING: Running step (split_ML.ubuntu.20140612.033019.972292: Step 1 of 2)\r\n"
       ]
      },
      {
       "output_type": "stream",
       "stream": "stdout",
       "text": [
        "Job launched 151.4s ago, status RUNNING: Running step (split_ML.ubuntu.20140612.033019.972292: Step 1 of 2)\r\n"
       ]
      },
      {
       "output_type": "stream",
       "stream": "stdout",
       "text": [
        "Job launched 181.7s ago, status RUNNING: Running step (split_ML.ubuntu.20140612.033019.972292: Step 1 of 2)\r\n"
       ]
      },
      {
       "output_type": "stream",
       "stream": "stdout",
       "text": [
        "Job launched 212.0s ago, status RUNNING: Running step (split_ML.ubuntu.20140612.033019.972292: Step 2 of 2)\r\n"
       ]
      },
      {
       "output_type": "stream",
       "stream": "stdout",
       "text": [
        "Job launched 242.2s ago, status RUNNING: Running step (split_ML.ubuntu.20140612.033019.972292: Step 2 of 2)\r\n"
       ]
      },
      {
       "output_type": "stream",
       "stream": "stdout",
       "text": [
        "Job launched 272.6s ago, status RUNNING: Running step (split_ML.ubuntu.20140612.033019.972292: Step 2 of 2)\r\n"
       ]
      },
      {
       "output_type": "stream",
       "stream": "stdout",
       "text": [
        "Job launched 302.9s ago, status RUNNING: Running step (split_ML.ubuntu.20140612.033019.972292: Step 2 of 2)\r\n"
       ]
      },
      {
       "output_type": "stream",
       "stream": "stdout",
       "text": [
        "Job completed.\r\n",
        "Running time was 293.0s (not counting time spent waiting for the EC2 instances)\r\n",
        "ec2_key_pair_file not specified, going to S3\r\n",
        "Fetching counters from S3...\r\n",
        "Waiting 5.0s for S3 eventual consistency\r\n"
       ]
      },
      {
       "output_type": "stream",
       "stream": "stdout",
       "text": [
        "Counters may not have been uploaded to S3 yet. Try again in 5 minutes with: mrjob fetch-logs --counters j-2S5LTMBIWD2WB\r\n",
        "Counters from step 1:\r\n",
        "  (no counters found)\r\n",
        "Counters from step 2:\r\n",
        "  (no counters found)\r\n",
        "Streaming final output from s3://yoav.hadoop/scratch/split_ML.ubuntu.20140612.033019.972292/output/\r\n"
       ]
      },
      {
       "output_type": "stream",
       "stream": "stdout",
       "text": [
        "removing tmp directory /tmp/split_ML.ubuntu.20140612.033019.972292\r\n"
       ]
      }
     ]
    },
    {
     "cell_type": "code",
     "collapsed": false,
     "input": [
      "####### shao shuju ????   #######\n",
      "f  = open('tmp_split.txt', 'rb')\n",
      "flag = -1\n",
      "data = []\n",
      "i = 0\n",
      "for line in f.readlines():\n",
      "    raw_line = re.split('\\t',line)\n",
      "    region = raw_line[0]\n",
      "    weathers = re.split('\\\", \\\"', raw_line[1][2:-3])\n",
      "    if flag == -1: flag = region\n",
      "    if flag != region:\n",
      "        i += 1\n",
      "        filename = '/home/ubuntu/station_data/'+ str(flag) + '_data.pklz'\n",
      "        print flag, len(data)\n",
      "        f = gzip.open(filename,'wb')\n",
      "        pickle.dump(data,f)\n",
      "        f.close()\n",
      "        flag = region\n",
      "        data = []\n",
      "    data.append(weathers)\n",
      "    "
     ],
     "language": "python",
     "metadata": {},
     "outputs": [
      {
       "output_type": "stream",
       "stream": "stdout",
       "text": [
        "106.0 700\n",
        "117.0"
       ]
      },
      {
       "output_type": "stream",
       "stream": "stdout",
       "text": [
        " 1130\n",
        "120.0"
       ]
      },
      {
       "output_type": "stream",
       "stream": "stdout",
       "text": [
        " 1952\n",
        "128.0"
       ]
      },
      {
       "output_type": "stream",
       "stream": "stdout",
       "text": [
        " 932\n",
        "131.0"
       ]
      },
      {
       "output_type": "stream",
       "stream": "stdout",
       "text": [
        " 610\n",
        "139.0"
       ]
      },
      {
       "output_type": "stream",
       "stream": "stdout",
       "text": [
        " 116\n",
        "142.0"
       ]
      },
      {
       "output_type": "stream",
       "stream": "stdout",
       "text": [
        " 626\n",
        "153.0"
       ]
      },
      {
       "output_type": "stream",
       "stream": "stdout",
       "text": [
        " 722\n",
        "16.0"
       ]
      },
      {
       "output_type": "stream",
       "stream": "stdout",
       "text": [
        " 954\n",
        "164.0"
       ]
      },
      {
       "output_type": "stream",
       "stream": "stdout",
       "text": [
        " 735\n",
        "175.0"
       ]
      },
      {
       "output_type": "stream",
       "stream": "stdout",
       "text": [
        " 565\n",
        "186.0"
       ]
      },
      {
       "output_type": "stream",
       "stream": "stdout",
       "text": [
        " 699\n",
        "197.0"
       ]
      },
      {
       "output_type": "stream",
       "stream": "stdout",
       "text": [
        " 465\n",
        "205.0"
       ]
      },
      {
       "output_type": "stream",
       "stream": "stdout",
       "text": [
        " 687\n",
        "216.0"
       ]
      },
      {
       "output_type": "stream",
       "stream": "stdout",
       "text": [
        " 598\n",
        "227.0"
       ]
      },
      {
       "output_type": "stream",
       "stream": "stdout",
       "text": [
        " 827\n",
        "230.0"
       ]
      },
      {
       "output_type": "stream",
       "stream": "stdout",
       "text": [
        " 253\n",
        "238.0"
       ]
      },
      {
       "output_type": "stream",
       "stream": "stdout",
       "text": [
        " 773\n",
        "241.0"
       ]
      },
      {
       "output_type": "stream",
       "stream": "stdout",
       "text": [
        " 789\n",
        "249.0"
       ]
      },
      {
       "output_type": "stream",
       "stream": "stdout",
       "text": [
        " 566\n",
        "252.0"
       ]
      },
      {
       "output_type": "stream",
       "stream": "stdout",
       "text": [
        " 385\n",
        "263.0"
       ]
      },
      {
       "output_type": "stream",
       "stream": "stdout",
       "text": [
        " 687\n",
        "27.0"
       ]
      },
      {
       "output_type": "stream",
       "stream": "stdout",
       "text": [
        " 598\n",
        "274.0"
       ]
      },
      {
       "output_type": "stream",
       "stream": "stdout",
       "text": [
        " 603\n",
        "285.0"
       ]
      },
      {
       "output_type": "stream",
       "stream": "stdout",
       "text": [
        " 535\n",
        "296.0"
       ]
      },
      {
       "output_type": "stream",
       "stream": "stdout",
       "text": [
        " 724\n",
        "30.0"
       ]
      },
      {
       "output_type": "stream",
       "stream": "stdout",
       "text": [
        " 537\n",
        "304.0"
       ]
      },
      {
       "output_type": "stream",
       "stream": "stdout",
       "text": [
        " 420\n",
        "315.0"
       ]
      },
      {
       "output_type": "stream",
       "stream": "stdout",
       "text": [
        " 667\n",
        "326.0"
       ]
      },
      {
       "output_type": "stream",
       "stream": "stdout",
       "text": [
        " 378\n",
        "337.0"
       ]
      },
      {
       "output_type": "stream",
       "stream": "stdout",
       "text": [
        " 482\n",
        "340.0"
       ]
      },
      {
       "output_type": "stream",
       "stream": "stdout",
       "text": [
        " 752\n",
        "348.0"
       ]
      },
      {
       "output_type": "stream",
       "stream": "stdout",
       "text": [
        " 583\n",
        "351.0"
       ]
      },
      {
       "output_type": "stream",
       "stream": "stdout",
       "text": [
        " 623\n",
        "359.0"
       ]
      },
      {
       "output_type": "stream",
       "stream": "stdout",
       "text": [
        " 772\n",
        "362.0"
       ]
      },
      {
       "output_type": "stream",
       "stream": "stdout",
       "text": [
        " 1621\n",
        "373.0"
       ]
      },
      {
       "output_type": "stream",
       "stream": "stdout",
       "text": [
        " 681\n",
        "38.0"
       ]
      },
      {
       "output_type": "stream",
       "stream": "stdout",
       "text": [
        " 437\n",
        "384.0"
       ]
      },
      {
       "output_type": "stream",
       "stream": "stdout",
       "text": [
        " 655\n",
        "395.0"
       ]
      },
      {
       "output_type": "stream",
       "stream": "stdout",
       "text": [
        " 1646\n",
        "403.0"
       ]
      },
      {
       "output_type": "stream",
       "stream": "stdout",
       "text": [
        " 1491\n",
        "41.0"
       ]
      },
      {
       "output_type": "stream",
       "stream": "stdout",
       "text": [
        " 73\n",
        "414.0"
       ]
      },
      {
       "output_type": "stream",
       "stream": "stdout",
       "text": [
        " 605\n",
        "425.0"
       ]
      },
      {
       "output_type": "stream",
       "stream": "stdout",
       "text": [
        " 834\n",
        "436.0"
       ]
      },
      {
       "output_type": "stream",
       "stream": "stdout",
       "text": [
        " 476\n",
        "447.0"
       ]
      },
      {
       "output_type": "stream",
       "stream": "stdout",
       "text": [
        " 349\n",
        "450.0"
       ]
      },
      {
       "output_type": "stream",
       "stream": "stdout",
       "text": [
        " 1044\n",
        "458.0"
       ]
      },
      {
       "output_type": "stream",
       "stream": "stdout",
       "text": [
        " 392\n",
        "461.0"
       ]
      },
      {
       "output_type": "stream",
       "stream": "stdout",
       "text": [
        " 985\n",
        "469.0"
       ]
      },
      {
       "output_type": "stream",
       "stream": "stdout",
       "text": [
        " 549\n",
        "472.0"
       ]
      },
      {
       "output_type": "stream",
       "stream": "stdout",
       "text": [
        " 1359\n",
        "483.0"
       ]
      },
      {
       "output_type": "stream",
       "stream": "stdout",
       "text": [
        " 316\n",
        "49.0"
       ]
      },
      {
       "output_type": "stream",
       "stream": "stdout",
       "text": [
        " 458\n",
        "494.0"
       ]
      },
      {
       "output_type": "stream",
       "stream": "stdout",
       "text": [
        " 496\n",
        "502.0"
       ]
      },
      {
       "output_type": "stream",
       "stream": "stdout",
       "text": [
        " 1019\n",
        "513.0"
       ]
      },
      {
       "output_type": "stream",
       "stream": "stdout",
       "text": [
        " 1041\n",
        "52.0"
       ]
      },
      {
       "output_type": "stream",
       "stream": "stdout",
       "text": [
        " 569\n",
        "524.0"
       ]
      },
      {
       "output_type": "stream",
       "stream": "stdout",
       "text": [
        " 927\n",
        "535.0"
       ]
      },
      {
       "output_type": "stream",
       "stream": "stdout",
       "text": [
        " 276\n",
        "546.0"
       ]
      },
      {
       "output_type": "stream",
       "stream": "stdout",
       "text": [
        " 683\n",
        "557.0"
       ]
      },
      {
       "output_type": "stream",
       "stream": "stdout",
       "text": [
        " 708\n",
        "560.0"
       ]
      },
      {
       "output_type": "stream",
       "stream": "stdout",
       "text": [
        " 744\n",
        "568.0"
       ]
      },
      {
       "output_type": "stream",
       "stream": "stdout",
       "text": [
        " 570\n",
        "571.0"
       ]
      },
      {
       "output_type": "stream",
       "stream": "stdout",
       "text": [
        " 1041\n",
        "579.0"
       ]
      },
      {
       "output_type": "stream",
       "stream": "stdout",
       "text": [
        " 644\n",
        "582.0"
       ]
      },
      {
       "output_type": "stream",
       "stream": "stdout",
       "text": [
        " 585\n",
        "593.0"
       ]
      },
      {
       "output_type": "stream",
       "stream": "stdout",
       "text": [
        " 1772\n",
        "601.0"
       ]
      },
      {
       "output_type": "stream",
       "stream": "stdout",
       "text": [
        " 459\n",
        "609.0"
       ]
      },
      {
       "output_type": "stream",
       "stream": "stdout",
       "text": [
        " 996\n",
        "612.0"
       ]
      },
      {
       "output_type": "stream",
       "stream": "stdout",
       "text": [
        " 697\n",
        "623.0"
       ]
      },
      {
       "output_type": "stream",
       "stream": "stdout",
       "text": [
        " 528\n",
        "63.0"
       ]
      },
      {
       "output_type": "stream",
       "stream": "stdout",
       "text": [
        " 436\n",
        "634.0"
       ]
      },
      {
       "output_type": "stream",
       "stream": "stdout",
       "text": [
        " 640\n",
        "645.0"
       ]
      },
      {
       "output_type": "stream",
       "stream": "stdout",
       "text": [
        " 1415\n",
        "656.0"
       ]
      },
      {
       "output_type": "stream",
       "stream": "stdout",
       "text": [
        " 1832\n",
        "667.0"
       ]
      },
      {
       "output_type": "stream",
       "stream": "stdout",
       "text": [
        " 633\n",
        "670.0"
       ]
      },
      {
       "output_type": "stream",
       "stream": "stdout",
       "text": [
        " 1269\n",
        "678.0"
       ]
      },
      {
       "output_type": "stream",
       "stream": "stdout",
       "text": [
        " 668\n",
        "681.0"
       ]
      },
      {
       "output_type": "stream",
       "stream": "stdout",
       "text": [
        " 930\n",
        "7.0"
       ]
      },
      {
       "output_type": "stream",
       "stream": "stdout",
       "text": [
        " 1546\n",
        "74.0"
       ]
      },
      {
       "output_type": "stream",
       "stream": "stdout",
       "text": [
        " 459\n",
        "85.0"
       ]
      },
      {
       "output_type": "stream",
       "stream": "stdout",
       "text": [
        " 39\n",
        "96.0"
       ]
      },
      {
       "output_type": "stream",
       "stream": "stdout",
       "text": [
        " 334\n",
        "0.0"
       ]
      },
      {
       "output_type": "stream",
       "stream": "stdout",
       "text": [
        " 440\n",
        "107.0"
       ]
      },
      {
       "output_type": "stream",
       "stream": "stdout",
       "text": [
        " 813\n",
        "110.0"
       ]
      },
      {
       "output_type": "stream",
       "stream": "stdout",
       "text": [
        " 651\n",
        "118.0"
       ]
      },
      {
       "output_type": "stream",
       "stream": "stdout",
       "text": [
        " 250\n",
        "121.0"
       ]
      },
      {
       "output_type": "stream",
       "stream": "stdout",
       "text": [
        " 1797\n",
        "129.0"
       ]
      },
      {
       "output_type": "stream",
       "stream": "stdout",
       "text": [
        " 325\n",
        "132.0"
       ]
      },
      {
       "output_type": "stream",
       "stream": "stdout",
       "text": [
        " 1400\n",
        "143.0"
       ]
      },
      {
       "output_type": "stream",
       "stream": "stdout",
       "text": [
        " 694\n",
        "154.0"
       ]
      },
      {
       "output_type": "stream",
       "stream": "stdout",
       "text": [
        " 539\n",
        "165.0"
       ]
      },
      {
       "output_type": "stream",
       "stream": "stdout",
       "text": [
        " 1039\n",
        "17.0"
       ]
      },
      {
       "output_type": "stream",
       "stream": "stdout",
       "text": [
        " 1889\n",
        "176.0"
       ]
      },
      {
       "output_type": "stream",
       "stream": "stdout",
       "text": [
        " 789\n",
        "187.0"
       ]
      },
      {
       "output_type": "stream",
       "stream": "stdout",
       "text": [
        " 1026\n",
        "190.0"
       ]
      },
      {
       "output_type": "stream",
       "stream": "stdout",
       "text": [
        " 1665\n",
        "198.0"
       ]
      },
      {
       "output_type": "stream",
       "stream": "stdout",
       "text": [
        " 617\n",
        "20.0"
       ]
      },
      {
       "output_type": "stream",
       "stream": "stdout",
       "text": [
        " 497\n",
        "206.0"
       ]
      },
      {
       "output_type": "stream",
       "stream": "stdout",
       "text": [
        " 645\n",
        "217.0"
       ]
      },
      {
       "output_type": "stream",
       "stream": "stdout",
       "text": [
        " 200\n",
        "220.0"
       ]
      },
      {
       "output_type": "stream",
       "stream": "stdout",
       "text": [
        " 1475\n",
        "228.0"
       ]
      },
      {
       "output_type": "stream",
       "stream": "stdout",
       "text": [
        " 757\n",
        "231.0"
       ]
      },
      {
       "output_type": "stream",
       "stream": "stdout",
       "text": [
        " 811\n",
        "239.0"
       ]
      },
      {
       "output_type": "stream",
       "stream": "stdout",
       "text": [
        " 623\n",
        "242.0"
       ]
      },
      {
       "output_type": "stream",
       "stream": "stdout",
       "text": [
        " 1276\n",
        "253.0"
       ]
      },
      {
       "output_type": "stream",
       "stream": "stdout",
       "text": [
        " 1843\n",
        "264.0"
       ]
      },
      {
       "output_type": "stream",
       "stream": "stdout",
       "text": [
        " 782\n",
        "275.0"
       ]
      },
      {
       "output_type": "stream",
       "stream": "stdout",
       "text": [
        " 847\n",
        "28.0"
       ]
      },
      {
       "output_type": "stream",
       "stream": "stdout",
       "text": [
        " 637\n",
        "286.0"
       ]
      },
      {
       "output_type": "stream",
       "stream": "stdout",
       "text": [
        " 756\n",
        "297.0"
       ]
      },
      {
       "output_type": "stream",
       "stream": "stdout",
       "text": [
        " 445\n",
        "305.0"
       ]
      },
      {
       "output_type": "stream",
       "stream": "stdout",
       "text": [
        " 488\n",
        "31.0"
       ]
      },
      {
       "output_type": "stream",
       "stream": "stdout",
       "text": [
        " 550\n",
        "316.0"
       ]
      },
      {
       "output_type": "stream",
       "stream": "stdout",
       "text": [
        " 671\n",
        "327.0"
       ]
      },
      {
       "output_type": "stream",
       "stream": "stdout",
       "text": [
        " 573\n",
        "330.0"
       ]
      },
      {
       "output_type": "stream",
       "stream": "stdout",
       "text": [
        " 430\n",
        "338.0"
       ]
      },
      {
       "output_type": "stream",
       "stream": "stdout",
       "text": [
        " 716\n",
        "341.0"
       ]
      },
      {
       "output_type": "stream",
       "stream": "stdout",
       "text": [
        " 505\n",
        "349.0"
       ]
      },
      {
       "output_type": "stream",
       "stream": "stdout",
       "text": [
        " 530\n",
        "352.0"
       ]
      },
      {
       "output_type": "stream",
       "stream": "stdout",
       "text": [
        " 693\n",
        "363.0"
       ]
      },
      {
       "output_type": "stream",
       "stream": "stdout",
       "text": [
        " 574\n",
        "374.0"
       ]
      },
      {
       "output_type": "stream",
       "stream": "stdout",
       "text": [
        " 681\n",
        "385.0"
       ]
      },
      {
       "output_type": "stream",
       "stream": "stdout",
       "text": [
        " 688\n",
        "39.0"
       ]
      },
      {
       "output_type": "stream",
       "stream": "stdout",
       "text": [
        " 487\n",
        "396.0"
       ]
      },
      {
       "output_type": "stream",
       "stream": "stdout",
       "text": [
        " 1398\n",
        "404.0"
       ]
      },
      {
       "output_type": "stream",
       "stream": "stdout",
       "text": [
        " 1803\n",
        "415.0"
       ]
      },
      {
       "output_type": "stream",
       "stream": "stdout",
       "text": [
        " 615\n",
        "42.0"
       ]
      },
      {
       "output_type": "stream",
       "stream": "stdout",
       "text": [
        " 1825\n",
        "426.0"
       ]
      },
      {
       "output_type": "stream",
       "stream": "stdout",
       "text": [
        " 1680\n",
        "437.0"
       ]
      },
      {
       "output_type": "stream",
       "stream": "stdout",
       "text": [
        " 750\n",
        "440.0"
       ]
      },
      {
       "output_type": "stream",
       "stream": "stdout",
       "text": [
        " 822\n",
        "448.0"
       ]
      },
      {
       "output_type": "stream",
       "stream": "stdout",
       "text": [
        " 339\n",
        "451.0"
       ]
      },
      {
       "output_type": "stream",
       "stream": "stdout",
       "text": [
        " 513\n",
        "459.0"
       ]
      },
      {
       "output_type": "stream",
       "stream": "stdout",
       "text": [
        " 399\n",
        "462.0"
       ]
      },
      {
       "output_type": "stream",
       "stream": "stdout",
       "text": [
        " 684\n",
        "473.0"
       ]
      },
      {
       "output_type": "stream",
       "stream": "stdout",
       "text": [
        " 197\n",
        "484.0"
       ]
      },
      {
       "output_type": "stream",
       "stream": "stdout",
       "text": [
        " 689\n",
        "495.0"
       ]
      },
      {
       "output_type": "stream",
       "stream": "stdout",
       "text": [
        " 654\n",
        "503.0"
       ]
      },
      {
       "output_type": "stream",
       "stream": "stdout",
       "text": [
        " 510\n",
        "514.0"
       ]
      },
      {
       "output_type": "stream",
       "stream": "stdout",
       "text": [
        " 1098\n",
        "525.0"
       ]
      },
      {
       "output_type": "stream",
       "stream": "stdout",
       "text": [
        " 1990\n",
        "53.0"
       ]
      },
      {
       "output_type": "stream",
       "stream": "stdout",
       "text": [
        " 622\n",
        "536.0"
       ]
      },
      {
       "output_type": "stream",
       "stream": "stdout",
       "text": [
        " 330\n",
        "547.0"
       ]
      },
      {
       "output_type": "stream",
       "stream": "stdout",
       "text": [
        " 532\n",
        "550.0"
       ]
      },
      {
       "output_type": "stream",
       "stream": "stdout",
       "text": [
        " 302\n",
        "558.0"
       ]
      },
      {
       "output_type": "stream",
       "stream": "stdout",
       "text": [
        " 688\n",
        "561.0"
       ]
      },
      {
       "output_type": "stream",
       "stream": "stdout",
       "text": [
        " 608\n",
        "569.0"
       ]
      },
      {
       "output_type": "stream",
       "stream": "stdout",
       "text": [
        " 1032\n",
        "572.0"
       ]
      },
      {
       "output_type": "stream",
       "stream": "stdout",
       "text": [
        " 301\n",
        "583.0"
       ]
      }
     ]
    },
    {
     "cell_type": "code",
     "collapsed": false,
     "input": [],
     "language": "python",
     "metadata": {},
     "outputs": []
    }
   ],
   "metadata": {}
  }
 ]
}