{
 "metadata": {
  "name": "",
  "signature": "sha256:f586d3273a8744495410d7369cc59c337204107dd7fef872fa0ac743dc52a9b9"
 },
 "nbformat": 3,
 "nbformat_minor": 0,
 "worksheets": [
  {
   "cells": [
    {
     "cell_type": "code",
     "collapsed": false,
     "input": [
      "!pwd"
     ],
     "language": "python",
     "metadata": {},
     "outputs": [
      {
       "output_type": "stream",
       "stream": "stdout",
       "text": [
        "/home/ubuntu/UCSD_BigData/notebooks/online\r\n"
       ]
      }
     ],
     "prompt_number": 1
    },
    {
     "cell_type": "code",
     "collapsed": false,
     "input": [
      "%cd ~/Vault/\n",
      "!ls"
     ],
     "language": "python",
     "metadata": {},
     "outputs": [
      {
       "output_type": "stream",
       "stream": "stdout",
       "text": [
        "/home/ubuntu/Vault\n",
        "AWSCredentials.py  AWSCredentials.py~  AWSCredentials.pyc\r\n"
       ]
      }
     ],
     "prompt_number": 2
    },
    {
     "cell_type": "code",
     "collapsed": false,
     "input": [
      "!mv AWSCredentials.py AWSCredentials.pyXX"
     ],
     "language": "python",
     "metadata": {},
     "outputs": [],
     "prompt_number": 3
    },
    {
     "cell_type": "code",
     "collapsed": false,
     "input": [
      "%cd ~/UCSD_BigData/LocalScripts/\n",
      "!ls -l"
     ],
     "language": "python",
     "metadata": {},
     "outputs": [
      {
       "output_type": "stream",
       "stream": "stdout",
       "text": [
        "/home/ubuntu/UCSD_BigData/LocalScripts\n",
        "total 32\r\n",
        "lrwxrwxrwx 1 ubuntu ubuntu    29 Apr 22 16:25 AWSCredentials.py -> ../../Vault/AWSCredentials.py\r\n",
        "lrwxrwxrwx 1 ubuntu ubuntu    30 Apr 22 16:25 AWSCredentials.pyc -> ../../Vault/AWSCredentials.pyc\r\n",
        "-rwxrwxr-x 1 ubuntu ubuntu  9229 Apr 19 20:03 LaunchNotebookServer.py\r\n",
        "-rwxrwxr-x 1 ubuntu ubuntu 18158 Apr  1 00:20 trace.txt\r\n"
       ]
      }
     ],
     "prompt_number": 4
    },
    {
     "cell_type": "code",
     "collapsed": false,
     "input": [
      "!cat AWSCredentials.py"
     ],
     "language": "python",
     "metadata": {},
     "outputs": [
      {
       "output_type": "stream",
       "stream": "stdout",
       "text": [
        "cat: AWSCredentials.py: No such file or directory\r\n"
       ]
      }
     ],
     "prompt_number": 5
    },
    {
     "cell_type": "code",
     "collapsed": false,
     "input": [
      "import os,os.path"
     ],
     "language": "python",
     "metadata": {},
     "outputs": [],
     "prompt_number": 6
    },
    {
     "cell_type": "code",
     "collapsed": false,
     "input": [
      "os.path.isfile('AWSCredentials.py')"
     ],
     "language": "python",
     "metadata": {},
     "outputs": [
      {
       "metadata": {},
       "output_type": "pyout",
       "prompt_number": 11,
       "text": [
        "True"
       ]
      }
     ],
     "prompt_number": 11
    },
    {
     "cell_type": "code",
     "collapsed": false,
     "input": [
      "os.path.islink('AWSCredentials.py')"
     ],
     "language": "python",
     "metadata": {},
     "outputs": [
      {
       "metadata": {},
       "output_type": "pyout",
       "prompt_number": 12,
       "text": [
        "True"
       ]
      }
     ],
     "prompt_number": 12
    },
    {
     "cell_type": "code",
     "collapsed": false,
     "input": [
      "!mv ../../Vault/AWSCredentials.pyXX ../../Vault/AWSCredentials.py"
     ],
     "language": "python",
     "metadata": {},
     "outputs": [],
     "prompt_number": 10
    },
    {
     "cell_type": "code",
     "collapsed": false,
     "input": [
      "from os.path import islink,isfile,isdir\n",
      "from os import mkdir,chdir\n",
      "name='AWSCredentials.py'\n",
      "try:\n",
      "    chdir('~/UCSD_BigData/LocalScripts/')\n",
      "    if not islink(name):\n",
      "        \n"
     ],
     "language": "python",
     "metadata": {},
     "outputs": [],
     "prompt_number": 14
    },
    {
     "cell_type": "code",
     "collapsed": false,
     "input": [
      "os.sl"
     ],
     "language": "python",
     "metadata": {},
     "outputs": []
    }
   ],
   "metadata": {}
  }
 ]
}